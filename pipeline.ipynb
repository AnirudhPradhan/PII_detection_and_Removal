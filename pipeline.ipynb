{
 "cells": [
  {
   "cell_type": "code",
   "execution_count": 1,
   "id": "baaf9385",
   "metadata": {},
   "outputs": [],
   "source": [
    "from packages.transcripts import transcribe_with_timestamps\n",
    "from packages.PII_detection import detect_pii_entities\n",
    "from packages.mapTimeStamps import map_pii_to_timestamps\n",
    "from packages.saveRedactedAudo import redact_audio"
   ]
  },
  {
   "cell_type": "code",
   "execution_count": 2,
   "id": "4035b824",
   "metadata": {},
   "outputs": [
    {
     "name": "stderr",
     "output_type": "stream",
     "text": [
      "<>:1: SyntaxWarning: invalid escape sequence '\\i'\n",
      "<>:1: SyntaxWarning: invalid escape sequence '\\i'\n",
      "C:\\Users\\anipr\\AppData\\Local\\Temp\\ipykernel_13104\\3500974511.py:1: SyntaxWarning: invalid escape sequence '\\i'\n",
      "  input_audio_path = \"inputs\\in-9872019796-1001-20250530-154113-1748599873.42156.wav\"\n"
     ]
    }
   ],
   "source": [
    "input_audio_path = \"inputs\\in-9872019796-1001-20250530-154113-1748599873.42156.wav\""
   ]
  },
  {
   "cell_type": "markdown",
   "id": "bcd5aa69",
   "metadata": {},
   "source": [
    "### 🎙️ Step 1: Transcribe Hindi Audio with Word-Level Timestamps\n",
    "\n",
    "This function uses Azure's Speech SDK to transcribe a WAV audio file in Hindi (`hi-IN`) and extract:\n",
    "\n",
    "- Recognized speech as text.\n",
    "- Word-level timestamps including start and end time (in seconds).\n",
    "\n",
    "The results are collected and returned in a structured dictionary with `text` and `chunks`.\n"
   ]
  },
  {
   "cell_type": "code",
   "execution_count": 3,
   "id": "36c5ad32",
   "metadata": {},
   "outputs": [
    {
     "name": "stdout",
     "output_type": "stream",
     "text": [
      "{'text': 'ਹੈਲੋ। ਹੈਲੋ। ਹੈਲੋ ਹਾਂ ਜੀ ਸਤਿ ਸ੍ਰੀ ਅਕਾਲ ਜੀ ਕੁਲਦੀਪ ਸਿੰਘ ਜੀ ਗੱਲ ਕਰ ਰਹੇ ਹੋ। ਕੁਲਬੀਰ ਜੀ ਮੈਂ ਕਲਤਿਬਿਟ ਕੰਪਨੀ ਪਟਿਆਲੇ ਤੋਂ ਗੱਲ ਕਰਦੀ ਆਂ। ਹੁਣੇ ਉਹਨਾਂ ਨੇ ਕਾਰਬਨ ਕ੍ਰੇਡਿਟ ਪ੍ਰੋਗ੍ਰਾਮ ਬਾਰੇ ਜਾਣਕਾਰੀ ਦਿੱਤੀ ਹੋਣੀ ਜਿਹੜੇ ਖੇਤਾਂ ਦੇ ਵਿੱਚ ਪਾਈਪ ਲੱਗਦੇ ਨੇ ਸਿਰ ਪਾਣੀ ਦਾ ਸੁਨੇਹਾ ਲਾਉਂਦੇ ਨੇ ਆਪਾਂ ਨੂੰ। ਠੀਕ ਐ ਜੀ ਤੇ ਮੈਂ ਤੁਹਾਨੂੰ ਇੱਕ ਤਰ੍ਹਾਂ ਦੀ ਕੰਪਨੀ ਵੱਲੋਂ ਤੁਹਾਨੂੰ ਵੈਲਕਮ ਕਾਲ ਹੈ ਤੇ ਦੂਜਾ ਜੇ ਤੁਹਾਨੂੰ ਇੱਕ ਪ੍ਰੋਜੈਕਟ ਬਾਰੇ ਕੁਝ ਵੀ ਸਮਝ ਨਹੀਂ ਆਇਆ ਜਾਣਨਾ ਚਾਹੁੰਦੇ ਹੋ ਤਾਂ ਤੁਸੀਂ ਮੈਨੂੰ ਪੁੱਛ ਸਕਦੇ ਹੋ। ਤੁਹਾਨੂੰ ਸਮਝ ਆਇਆ ਕਿ ਆਪਾਂ ਜੀ ਸੈਂਸਰ ਯਾ ਪਾਈਪ ਤੁਹਾਡੇ ਖੇਤਾਂ ਚ ਕਿਉਂ ਲਾਉਣੀ? ਨਹੀਂ ਜੀ ਓਕੇ ਕੁਲਦੀਪ ਸਿੰਘ ਜੀ ਇਹ ਹੈ ਕਿ ਜਿਵੇਂ ਆਪਾਂ ਕਈ ਵਾਰੀ ਝੋਨੇ ਦੀ ਫਸਲ ਜਦੋਂ ਲਾ ਦਿੰਦੇ ਐ ਨਾ ਉਹ ਤੋਂ ਬਾਅਦ ਸਤ੍ਹਾ ਨੂੰ ਸੁੱਕਾ ਦੇਖ ਕੇ ਪਤਾ ਨਹੀਂ ਲਾ ਦਿੰਦੇ ਆ ਠੀਕ ਐ ਪਹਿਲਾਂ ਮੈਨੂੰ ਹੀ ਦੱਸੋਂਗੇ ਕਿ ਸੈਂਸਰ ਕੰਮ ਕੀ ਕਰਦੇ ਨੇ ਇਹ ਸੈਂਸਰ ਨਾ ਸਿਰ ਪੰਜ ਇੰਚ ਦੇ ਡਾਇਮੀਟਰ ਦੇ ਹੁੰਦੇ ਨੇ ਖੇਤ ਦੀ ਵੱਟ ਤੇ ਲੱਗ ਜਾਂਦੇ ਨੇ ਥੋੜੀ ਫ਼ਸਲ ਨੂੰ ਕੋਈ ਨੁਕਸਾਨ ਨਹੀਂ ਕੀਤਾ ਗਿਆ। ਪਾਣੀ ਦੀ ਮਾਤਰਾ ਦੀ ਲੋੜ ਹੋਊਗੀ ਪਾਣੀ ਦੀ ਲੋੜ ਹੋਊਗੀ ਮਸਜਿਦਏਗਾ ਵੀ ਕੁਲਦੀਪ ਸਿੰਘ ਜੀ ਥੋਡੇ ਖੇਤ ਅੰਦਰ ਨਮੀ ਦੀ ਮਾਤਰਾ ਘਟ ਗਈ ਹੈ। ਕਿਰਪਾ ਕਰਕੇ ਮੋਟਰ ਚਲਾ ਦੋ। ਠੀਕ ਹੈ ਜਦੋਂ ਪਾਣੀ ਦੀ ਮਾਤਰਾ ਪੂਰੀ ਹੋ ਚੁੱਕੀ ਹੈ। ਤੁਹਾਨੂੰ ਫ਼ੇਡ ਮੈਸੇਜ ਆਊਗਾ ਵੀ ਕੁਲਦੀਪ ਸਿੰਘ ਜੀ ਮੋਟਰ ਬੰਦ ਕਰ ਦਿਉ। ਨਵੀਂ ਦੀ ਮਾਤਰਾ ਪੂਰੀ ਹੋ ਗਈ। ਠੀਕ ਹੈ ਨਾ ਫਾਇਦੇ ਕੀ ਨੇ ਅਪਾਇਲ ਲਗਈਏ ਕਿਉਂ ਹੈ ਨਾ ਸਭ ਤੋਂ ਪਹਿਲੀ ਗੱਲ ਸਿਰ ਫ਼੍ਰੀ ਆਫ਼ ਕਾਸਟ ਹੈਗਾ। ਕੋਈ ₹0.00 ਨਹੀਂ ਹੈ। ਤੁਸੀਂ ਕਿਸੇ ਨੂੰ ਦੇਣਾ ਦੂਜੀ ਗੱਲ ਕਈ ਵਾਰ ਹੀ ਕੀ ਹੁੰਦਾ ਹੈ ਕਿ ਬਹੁਤ ਸਾਰੇ ਫਾਰਮਰਾਂ ਦੇ ਯਾਨੀ ਕਿ ਕਿਸਾਨਾਂ ਦੇ ਖੇਤ ਉਹਨਾਂ ਦੇ ਘਰਾਂ ਤੋਂ ਦੂਰ ਹੁੰਦੇ ਨੇ। ਉਹਨਾਂ ਨੂੰ ਬਾਰ ਬਾਰ ਦੇਖਣ ਜਾਣਾ ਪੈਂਦਾ ਹੈ। ਵੀ ਮੋਟਰ ਦੀ ਲੋੜ ਹੈ ਚਲਾਈਏ ਨਾ ਚਲਾਈਏ ਹੈ ਨਾ ਤੁਹਾਨੂੰ ਸਟਾਰਟਿੰਗ ਚ ਹੀ ਦੱਸਦਾ ਕਿ ਆਪਾਂ ਸਤ੍ਹਾ ਸੁੱਕੀ ਦੇ ਕੇ ਕਈ ਵਾਰੀ ਪਾਣੀ ਲਾ ਦਿਨੇਂ ਹੈ ਬੱਟ ਅੰਦਰ ਪਾਣੀ ਹੁੰਦਾ ਹੈ ਖੇਤ ਤੇ ਜ਼ਮੀਨ ਦੇ ਅੰਦਰ ਤਾਂ ਆਪਣੀ ਪਾਣੀ ਦੀ ਬੱਚਤ ਕਰਾਊਗਾ। ਸਿਰ ਪਹਿਲਾਂ ਦੂਜੀ ਗੱਲ ਬੇਸ਼ੱਕ ਆਪਾਂ ਉਹਨੂੰ ਬਿਜਲੀ ਦੀ ਸਬਸਿਡੀ ਮਿਲਦੀ ਐ। ਬੱਟ ਮੋਟਰ ਤਾਂ ਭਾਵ ਦੀ ਉਹ ਚਲਾਉਂਦੇ ਨਾ ਸਿਰ। ਕਿਡਨੀ ਘੱਟ ਚਲੋਗੀ ਉਨੀ ਕਸਾਈ ਕੱਟ ਹੋਗੀ। ਉਹਨਾਂ ਲੰਬਾ ਸਾਡੇ ਨਾਲ ਕੰਮ ਕਰੂਗੀ ਮੋਟਰ ਤੀਜੀ ਗੱਲ ਕੀ ਹੁੰਦੀ ਐ ਸਿਰ ਜਦੋਂ ਆਪਾਂ ਜ਼ਿਆਦਾ ਪਾਣੀ ਲੈਂਦੇ ਆ ਨਾ ਤਾਂ ਫਸਲ ਨੂੰ ਉੱਲੀ ਦੀ ਬਿਮਾਰੀ ਲੱਗ ਜਾਂਦੀ ਐ ਜਿਹਦੀ ਫੇਰ ਆਪਾਂ ਨੂੰ ਸਪਰੇਅ ਕਰਾਨੀ ਪੈਂਦੀ ਐ ਔਰ ਉਹ ਮਹਿੰਗੀ ਬਹੁਤ ਆ। ਹੈ ਨਾ ਸਿਰ ਕੀ ਹੁੰਦਾ ਹੈ ਕਿ ਇੱਕ ਤਾਂ ਉਸ ਪਰੇਸ਼ਾਨੀ ਆਪਾਂ ਨੂੰ ਪੁਰਾਣੀਆ ਪੈਂਦੀਆਂ। ਕੋਈ ਓਦਾਂ ਦੀ ਜਿਹੜੀ ਪਾਣੀ ਦੀ ਵੱਧ ਮਾਤਰਾ ਦੇ ਨਾਲ ਫ਼ਸਲ ਨੂੰ ਬਿਮਾਰੀ ਹੋਣੀ, ਉਹ ਨਹੀਂ ਲਗਦੀ ਜਿਹਦੇ ਨਾਲ ਝਾੜ ਵੀ ਵੱਧ ਹੈ ਸਿਰ। ਤਾਂ ਕੀ ਕੰਮ ਐ ਔਰ ਕਿਉਂ ਆਪਾਂ ਕਰਾਉਣਾ ਇਹ ਦੋਨੋਂ ਜਾਣਕਾਰੀਆਂ ਮੈਂ ਤੁਹਾਨੂੰ ਦੇਤੀ ਆ। ਇਹ ਵੀ ਦੱਸਦਾ ਕਿ ਇਹਦਾ ਕੋਈ ਵੀ ₹0.00 ਤੁਸੀਂ ਕਿਸੇ ਨੂੰ ਨਹੀਂ ਦੇਣਾ ਹੈਗਾ। ਜੇ ਤੁਸੀਂ ਸਾਡੀ ਐਡਵਾਈਜ਼ਰੀ ਦੇ ਮੁਤਾਬਕ ਖੇਤ ਦੇ ਵਿੱਚ ਪਾਣੀ ਲਾਉਣਗੇ। ਤਾਂ ਇਹਦੇ ਨਾਲ ਤੁਹਾਨੂੰ ਫੈ ਰਹੀ ਹੈ ਸਿਰ। ਠੀਕ ਐ ਜੀ ਠੀਕ ਐ ਸਿਰ ਸਮਾਂ ਦੇਣ ਵਾਸਤੇ ਬਹੁਤ ਬਹੁਤ ਧੰਨਵਾਦ ਸਿਰ ਕਿਸੇ ਵੀ ਤਰੀਕੇ ਦੀ ਕੋਈ ਹੋਰ ਜਾਣਕਾਰੀ ਜਾਨਣਾ ਚਾਹੁੰਨੇ ਓਂ ਪ੍ਰਾਜੈਕਟ ਨੂੰ ਲੈ ਕੇ ਮੈਂ ਪੁੱਛ ਸਕਦੀ ਆਂ ਸਿਰ। ਬਹੁਤ ਬਹੁਤ ਧੰਨਵਾਦ ਸਿਰ ਥੋੜਾ ਸਮਾਂ ਦੇਣਾ ਸਿਰ ਸਤਿ ਸ਼੍ਰੀ ਅਕਾਲ ਜੀ।', 'chunks': [{'text': 'ਹੈਲੋ', 'timestamp': (2.43, 2.71)}, {'text': 'ਹੈਲੋ', 'timestamp': (5.88, 6.16)}, {'text': 'ਹੈਲੋ', 'timestamp': (9.04, 9.28)}, {'text': 'ਹਾਂ', 'timestamp': (9.28, 9.48)}, {'text': 'ਜੀ', 'timestamp': (9.48, 9.6)}, {'text': 'ਸਤਿ', 'timestamp': (9.6, 9.72)}, {'text': 'ਸ੍ਰੀ', 'timestamp': (9.72, 9.84)}, {'text': 'ਅਕਾਲ', 'timestamp': (9.84, 10.04)}, {'text': 'ਜੀ', 'timestamp': (10.04, 10.92)}, {'text': 'ਕੁਲਦੀਪ', 'timestamp': (10.92, 11.16)}, {'text': 'ਸਿੰਘ', 'timestamp': (11.16, 11.32)}, {'text': 'ਜੀ', 'timestamp': (12.04, 12.32)}, {'text': 'ਗੱਲ', 'timestamp': (12.32, 12.44)}, {'text': 'ਕਰ', 'timestamp': (12.44, 12.52)}, {'text': 'ਰਹੇ', 'timestamp': (12.52, 12.64)}, {'text': 'ਹੋ', 'timestamp': (12.64, 12.72)}, {'text': 'ਕੁਲਬੀਰ', 'timestamp': (13.03, 13.55)}, {'text': 'ਜੀ', 'timestamp': (13.55, 13.63)}, {'text': 'ਮੈਂ', 'timestamp': (13.63, 13.75)}, {'text': 'ਕਲਤਿਬਿਟ', 'timestamp': (13.75, 14.15)}, {'text': 'ਕੰਪਨੀ', 'timestamp': (14.15, 14.51)}, {'text': 'ਪਟਿਆਲੇ', 'timestamp': (14.51, 14.95)}, {'text': 'ਤੋਂ', 'timestamp': (14.95, 15.07)}, {'text': 'ਗੱਲ', 'timestamp': (15.07, 15.23)}, {'text': 'ਕਰਦੀ', 'timestamp': (15.23, 15.67)}, {'text': 'ਆਂ', 'timestamp': (15.67, 15.71)}, {'text': 'ਹੁਣੇ', 'timestamp': (16.75, 17.67)}, {'text': 'ਉਹਨਾਂ', 'timestamp': (18.47, 18.91)}, {'text': 'ਨੇ', 'timestamp': (18.95, 19.39)}, {'text': 'ਕਾਰਬਨ', 'timestamp': (20.59, 20.95)}, {'text': 'ਕ੍ਰੇਡਿਟ', 'timestamp': (20.95, 21.39)}, {'text': 'ਪ੍ਰੋਗ੍ਰਾਮ', 'timestamp': (21.47, 21.87)}, {'text': 'ਬਾਰੇ', 'timestamp': (21.87, 22.11)}, {'text': 'ਜਾਣਕਾਰੀ', 'timestamp': (22.11, 22.55)}, {'text': 'ਦਿੱਤੀ', 'timestamp': (22.55, 22.79)}, {'text': 'ਹੋਣੀ', 'timestamp': (22.79, 23.15)}, {'text': 'ਜਿਹੜੇ', 'timestamp': (23.59, 23.99)}, {'text': 'ਖੇਤਾਂ', 'timestamp': (23.99, 24.31)}, {'text': 'ਦੇ', 'timestamp': (24.31, 24.47)}, {'text': 'ਵਿੱਚ', 'timestamp': (24.47, 24.75)}, {'text': 'ਪਾਈਪ', 'timestamp': (24.75, 25.07)}, {'text': 'ਲੱਗਦੇ', 'timestamp': (25.07, 25.47)}, {'text': 'ਨੇ', 'timestamp': (25.47, 25.55)}, {'text': 'ਸਿਰ', 'timestamp': (25.55, 25.71)}, {'text': 'ਪਾਣੀ', 'timestamp': (25.71, 25.99)}, {'text': 'ਦਾ', 'timestamp': (25.99, 26.07)}, {'text': 'ਸੁਨੇਹਾ', 'timestamp': (26.07, 26.43)}, {'text': 'ਲਾਉਂਦੇ', 'timestamp': (26.43, 26.75)}, {'text': 'ਨੇ', 'timestamp': (26.75, 26.87)}, {'text': 'ਆਪਾਂ', 'timestamp': (26.91, 27.03)}, {'text': 'ਨੂੰ', 'timestamp': (27.03, 27.15)}, {'text': 'ਠੀਕ', 'timestamp': (28.03, 28.55)}, {'text': 'ਐ', 'timestamp': (28.55, 28.59)}, {'text': 'ਜੀ', 'timestamp': (28.59, 28.67)}, {'text': 'ਤੇ', 'timestamp': (29.15, 29.35)}, {'text': 'ਮੈਂ', 'timestamp': (29.35, 29.67)}, {'text': 'ਤੁਹਾਨੂੰ', 'timestamp': (29.67, 29.95)}, {'text': 'ਇੱਕ', 'timestamp': (30.03, 30.11)}, {'text': 'ਤਰ੍ਹਾਂ', 'timestamp': (30.11, 30.35)}, {'text': 'ਦੀ', 'timestamp': (30.35, 30.67)}, {'text': 'ਕੰਪਨੀ', 'timestamp': (30.71, 31.03)}, {'text': 'ਵੱਲੋਂ', 'timestamp': (31.03, 31.19)}, {'text': 'ਤੁਹਾਨੂੰ', 'timestamp': (31.19, 31.51)}, {'text': 'ਵੈਲਕਮ', 'timestamp': (31.51, 31.87)}, {'text': 'ਕਾਲ', 'timestamp': (31.87, 32.07)}, {'text': 'ਹੈ', 'timestamp': (32.07, 32.27)}, {'text': 'ਤੇ', 'timestamp': (32.55, 32.63)}, {'text': 'ਦੂਜਾ', 'timestamp': (32.67, 32.99)}, {'text': 'ਜੇ', 'timestamp': (33.27, 33.43)}, {'text': 'ਤੁਹਾਨੂੰ', 'timestamp': (33.43, 33.75)}, {'text': 'ਇੱਕ', 'timestamp': (33.75, 33.83)}, {'text': 'ਪ੍ਰੋਜੈਕਟ', 'timestamp': (34.71, 35.11)}, {'text': 'ਬਾਰੇ', 'timestamp': (35.11, 35.39)}, {'text': 'ਕੁਝ', 'timestamp': (35.39, 35.55)}, {'text': 'ਵੀ', 'timestamp': (35.55, 35.83)}, {'text': 'ਸਮਝ', 'timestamp': (35.83, 36.03)}, {'text': 'ਨਹੀਂ', 'timestamp': (36.03, 36.23)}, {'text': 'ਆਇਆ', 'timestamp': (36.23, 36.27)}, {'text': 'ਜਾਣਨਾ', 'timestamp': (36.27, 36.79)}, {'text': 'ਚਾਹੁੰਦੇ', 'timestamp': (36.79, 37.63)}, {'text': 'ਹੋ', 'timestamp': (37.63, 37.71)}, {'text': 'ਤਾਂ', 'timestamp': (37.71, 37.79)}, {'text': 'ਤੁਸੀਂ', 'timestamp': (37.79, 37.99)}, {'text': 'ਮੈਨੂੰ', 'timestamp': (37.99, 38.19)}, {'text': 'ਪੁੱਛ', 'timestamp': (38.19, 38.35)}, {'text': 'ਸਕਦੇ', 'timestamp': (38.35, 38.67)}, {'text': 'ਹੋ', 'timestamp': (38.67, 38.91)}, {'text': 'ਤੁਹਾਨੂੰ', 'timestamp': (39.23, 39.51)}, {'text': 'ਸਮਝ', 'timestamp': (39.51, 39.67)}, {'text': 'ਆਇਆ', 'timestamp': (39.67, 39.71)}, {'text': 'ਕਿ', 'timestamp': (39.71, 39.79)}, {'text': 'ਆਪਾਂ', 'timestamp': (39.79, 40.47)}, {'text': 'ਜੀ', 'timestamp': (40.47, 40.59)}, {'text': 'ਸੈਂਸਰ', 'timestamp': (40.71, 40.95)}, {'text': 'ਯਾ', 'timestamp': (40.95, 41.15)}, {'text': 'ਪਾਈਪ', 'timestamp': (41.15, 41.31)}, {'text': 'ਤੁਹਾਡੇ', 'timestamp': (41.35, 41.59)}, {'text': 'ਖੇਤਾਂ', 'timestamp': (41.59, 41.91)}, {'text': 'ਚ', 'timestamp': (41.91, 41.95)}, {'text': 'ਕਿਉਂ', 'timestamp': (41.95, 42.03)}, {'text': 'ਲਾਉਣੀ', 'timestamp': (42.15, 42.47)}, {'text': 'ਨਹੀਂ', 'timestamp': (43.95, 44.59)}, {'text': 'ਜੀ', 'timestamp': (44.71, 44.83)}, {'text': 'ਓਕੇ', 'timestamp': (45.15, 45.35)}, {'text': 'ਕੁਲਦੀਪ', 'timestamp': (45.87, 46.83)}, {'text': 'ਸਿੰਘ', 'timestamp': (47.11, 47.27)}, {'text': 'ਜੀ', 'timestamp': (47.31, 47.55)}, {'text': 'ਇਹ', 'timestamp': (47.55, 47.59)}, {'text': 'ਹੈ', 'timestamp': (47.59, 47.99)}, {'text': 'ਕਿ', 'timestamp': (48.11, 48.23)}, {'text': 'ਜਿਵੇਂ', 'timestamp': (48.79, 49.15)}, {'text': 'ਆਪਾਂ', 'timestamp': (49.19, 49.43)}, {'text': 'ਕਈ', 'timestamp': (49.43, 49.47)}, {'text': 'ਵਾਰੀ', 'timestamp': (49.47, 50.43)}, {'text': 'ਝੋਨੇ', 'timestamp': (50.43, 50.67)}, {'text': 'ਦੀ', 'timestamp': (50.67, 50.87)}, {'text': 'ਫਸਲ', 'timestamp': (50.87, 51.23)}, {'text': 'ਜਦੋਂ', 'timestamp': (51.23, 51.39)}, {'text': 'ਲਾ', 'timestamp': (51.39, 51.63)}, {'text': 'ਦਿੰਦੇ', 'timestamp': (51.63, 51.83)}, {'text': 'ਐ', 'timestamp': (51.83, 51.87)}, {'text': 'ਨਾ', 'timestamp': (51.87, 51.95)}, {'text': 'ਉਹ', 'timestamp': (51.95, 51.99)}, {'text': 'ਤੋਂ', 'timestamp': (51.99, 52.15)}, {'text': 'ਬਾਅਦ', 'timestamp': (52.15, 52.31)}, {'text': 'ਸਤ੍ਹਾ', 'timestamp': (52.31, 52.55)}, {'text': 'ਨੂੰ', 'timestamp': (52.55, 52.67)}, {'text': 'ਸੁੱਕਾ', 'timestamp': (52.67, 52.95)}, {'text': 'ਦੇਖ', 'timestamp': (52.95, 53.15)}, {'text': 'ਕੇ', 'timestamp': (53.15, 53.27)}, {'text': 'ਪਤਾ', 'timestamp': (53.27, 53.87)}, {'text': 'ਨਹੀਂ', 'timestamp': (53.87, 54.03)}, {'text': 'ਲਾ', 'timestamp': (54.03, 54.11)}, {'text': 'ਦਿੰਦੇ', 'timestamp': (54.87, 55.15)}, {'text': 'ਆ', 'timestamp': (55.15, 55.19)}, {'text': 'ਠੀਕ', 'timestamp': (55.19, 55.39)}, {'text': 'ਐ', 'timestamp': (55.39, 55.51)}, {'text': 'ਪਹਿਲਾਂ', 'timestamp': (55.51, 55.83)}, {'text': 'ਮੈਨੂੰ', 'timestamp': (55.83, 56.07)}, {'text': 'ਹੀ', 'timestamp': (56.07, 56.19)}, {'text': 'ਦੱਸੋਂਗੇ', 'timestamp': (56.35, 56.59)}, {'text': 'ਕਿ', 'timestamp': (56.59, 56.75)}, {'text': 'ਸੈਂਸਰ', 'timestamp': (56.75, 57.15)}, {'text': 'ਕੰਮ', 'timestamp': (57.15, 57.43)}, {'text': 'ਕੀ', 'timestamp': (57.43, 57.59)}, {'text': 'ਕਰਦੇ', 'timestamp': (57.59, 58.07)}, {'text': 'ਨੇ', 'timestamp': (58.23, 58.31)}, {'text': 'ਇਹ', 'timestamp': (58.31, 58.39)}, {'text': 'ਸੈਂਸਰ', 'timestamp': (58.67, 58.99)}, {'text': 'ਨਾ', 'timestamp': (58.99, 59.11)}, {'text': 'ਸਿਰ', 'timestamp': (59.15, 59.35)}, {'text': 'ਪੰਜ', 'timestamp': (59.55, 59.87)}, {'text': 'ਇੰਚ', 'timestamp': (60.23, 60.35)}, {'text': 'ਦੇ', 'timestamp': (60.47, 60.79)}, {'text': 'ਡਾਇਮੀਟਰ', 'timestamp': (60.79, 61.27)}, {'text': 'ਦੇ', 'timestamp': (61.27, 61.39)}, {'text': 'ਹੁੰਦੇ', 'timestamp': (61.39, 61.67)}, {'text': 'ਨੇ', 'timestamp': (61.67, 61.83)}, {'text': 'ਖੇਤ', 'timestamp': (62.27, 62.55)}, {'text': 'ਦੀ', 'timestamp': (62.55, 62.71)}, {'text': 'ਵੱਟ', 'timestamp': (62.71, 62.91)}, {'text': 'ਤੇ', 'timestamp': (62.91, 63.07)}, {'text': 'ਲੱਗ', 'timestamp': (63.07, 63.23)}, {'text': 'ਜਾਂਦੇ', 'timestamp': (63.23, 63.47)}, {'text': 'ਨੇ', 'timestamp': (63.47, 63.63)}, {'text': 'ਥੋੜੀ', 'timestamp': (63.63, 63.79)}, {'text': 'ਫ਼ਸਲ', 'timestamp': (63.83, 64.07)}, {'text': 'ਨੂੰ', 'timestamp': (64.07, 64.19)}, {'text': 'ਕੋਈ', 'timestamp': (64.19, 64.35)}, {'text': 'ਨੁਕਸਾਨ', 'timestamp': (64.35, 64.75)}, {'text': 'ਨਹੀਂ', 'timestamp': (64.75, 64.87)}, {'text': 'ਕੀਤਾ', 'timestamp': (64.87, 65.07)}, {'text': 'ਗਿਆ', 'timestamp': (65.11, 65.19)}, {'text': 'ਪਾਣੀ', 'timestamp': (66.03, 66.51)}, {'text': 'ਦੀ', 'timestamp': (69.11, 69.23)}, {'text': 'ਮਾਤਰਾ', 'timestamp': (69.35, 70.31)}, {'text': 'ਦੀ', 'timestamp': (70.39, 71.83)}, {'text': 'ਲੋੜ', 'timestamp': (71.83, 72.07)}, {'text': 'ਹੋਊਗੀ', 'timestamp': (72.07, 72.47)}, {'text': 'ਪਾਣੀ', 'timestamp': (72.47, 72.71)}, {'text': 'ਦੀ', 'timestamp': (72.71, 72.79)}, {'text': 'ਲੋੜ', 'timestamp': (72.79, 73.19)}, {'text': 'ਹੋਊਗੀ', 'timestamp': (73.19, 73.43)}, {'text': 'ਮਸਜਿਦਏਗਾ', 'timestamp': (74.03, 74.55)}, {'text': 'ਵੀ', 'timestamp': (74.55, 74.63)}, {'text': 'ਕੁਲਦੀਪ', 'timestamp': (74.63, 75.03)}, {'text': 'ਸਿੰਘ', 'timestamp': (75.03, 75.19)}, {'text': 'ਜੀ', 'timestamp': (75.19, 75.43)}, {'text': 'ਥੋਡੇ', 'timestamp': (75.43, 75.63)}, {'text': 'ਖੇਤ', 'timestamp': (75.67, 75.83)}, {'text': 'ਅੰਦਰ', 'timestamp': (75.83, 76.15)}, {'text': 'ਨਮੀ', 'timestamp': (76.15, 76.55)}, {'text': 'ਦੀ', 'timestamp': (76.55, 76.67)}, {'text': 'ਮਾਤਰਾ', 'timestamp': (76.67, 77.15)}, {'text': 'ਘਟ', 'timestamp': (77.15, 77.27)}, {'text': 'ਗਈ', 'timestamp': (77.27, 77.47)}, {'text': 'ਹੈ', 'timestamp': (77.47, 77.63)}, {'text': 'ਕਿਰਪਾ', 'timestamp': (78.07, 78.39)}, {'text': 'ਕਰਕੇ', 'timestamp': (78.39, 78.75)}, {'text': 'ਮੋਟਰ', 'timestamp': (78.75, 78.95)}, {'text': 'ਚਲਾ', 'timestamp': (78.95, 79.19)}, {'text': 'ਦੋ', 'timestamp': (79.19, 79.39)}, {'text': 'ਠੀਕ', 'timestamp': (80.19, 80.31)}, {'text': 'ਹੈ', 'timestamp': (80.31, 80.39)}, {'text': 'ਜਦੋਂ', 'timestamp': (80.87, 81.07)}, {'text': 'ਪਾਣੀ', 'timestamp': (81.07, 81.67)}, {'text': 'ਦੀ', 'timestamp': (81.67, 81.75)}, {'text': 'ਮਾਤਰਾ', 'timestamp': (81.75, 82.15)}, {'text': 'ਪੂਰੀ', 'timestamp': (82.15, 82.43)}, {'text': 'ਹੋ', 'timestamp': (82.43, 82.63)}, {'text': 'ਚੁੱਕੀ', 'timestamp': (82.63, 82.87)}, {'text': 'ਹੈ', 'timestamp': (82.87, 82.95)}, {'text': 'ਤੁਹਾਨੂੰ', 'timestamp': (82.95, 83.23)}, {'text': 'ਫ਼ੇਡ', 'timestamp': (83.23, 83.39)}, {'text': 'ਮੈਸੇਜ', 'timestamp': (83.39, 83.59)}, {'text': 'ਆਊਗਾ', 'timestamp': (83.71, 83.83)}, {'text': 'ਵੀ', 'timestamp': (83.83, 83.99)}, {'text': 'ਕੁਲਦੀਪ', 'timestamp': (83.99, 84.43)}, {'text': 'ਸਿੰਘ', 'timestamp': (84.43, 84.59)}, {'text': 'ਜੀ', 'timestamp': (84.59, 84.75)}, {'text': 'ਮੋਟਰ', 'timestamp': (84.75, 85.03)}, {'text': 'ਬੰਦ', 'timestamp': (85.03, 85.27)}, {'text': 'ਕਰ', 'timestamp': (85.27, 85.39)}, {'text': 'ਦਿਉ', 'timestamp': (85.39, 85.51)}, {'text': 'ਨਵੀਂ', 'timestamp': (85.67, 85.87)}, {'text': 'ਦੀ', 'timestamp': (85.87, 85.95)}, {'text': 'ਮਾਤਰਾ', 'timestamp': (85.95, 86.31)}, {'text': 'ਪੂਰੀ', 'timestamp': (86.31, 86.55)}, {'text': 'ਹੋ', 'timestamp': (86.55, 86.67)}, {'text': 'ਗਈ', 'timestamp': (86.71, 86.75)}, {'text': 'ਠੀਕ', 'timestamp': (87.83, 87.99)}, {'text': 'ਹੈ', 'timestamp': (87.99, 88.07)}, {'text': 'ਨਾ', 'timestamp': (88.31, 88.39)}, {'text': 'ਫਾਇਦੇ', 'timestamp': (88.39, 88.67)}, {'text': 'ਕੀ', 'timestamp': (88.67, 88.79)}, {'text': 'ਨੇ', 'timestamp': (88.79, 88.87)}, {'text': 'ਅਪਾਇਲ', 'timestamp': (88.87, 89.63)}, {'text': 'ਲਗਈਏ', 'timestamp': (89.63, 89.71)}, {'text': 'ਕਿਉਂ', 'timestamp': (89.75, 89.87)}, {'text': 'ਹੈ', 'timestamp': (90.27, 90.35)}, {'text': 'ਨਾ', 'timestamp': (90.35, 90.43)}, {'text': 'ਸਭ', 'timestamp': (90.99, 91.07)}, {'text': 'ਤੋਂ', 'timestamp': (91.15, 91.23)}, {'text': 'ਪਹਿਲੀ', 'timestamp': (91.23, 91.51)}, {'text': 'ਗੱਲ', 'timestamp': (91.51, 91.63)}, {'text': 'ਸਿਰ', 'timestamp': (91.67, 91.79)}, {'text': 'ਫ਼੍ਰੀ', 'timestamp': (91.91, 92.11)}, {'text': 'ਆਫ਼', 'timestamp': (92.11, 92.35)}, {'text': 'ਕਾਸਟ', 'timestamp': (92.35, 92.71)}, {'text': 'ਹੈਗਾ', 'timestamp': (92.71, 92.87)}, {'text': 'ਕੋਈ', 'timestamp': (92.87, 92.99)}, {'text': 'ਪੈਸਾ', 'timestamp': (92.99, 93.23)}, {'text': 'ਨਹੀਂ', 'timestamp': (93.23, 93.39)}, {'text': 'ਹੈ', 'timestamp': (93.39, 93.47)}, {'text': 'ਤੁਸੀਂ', 'timestamp': (93.47, 93.71)}, {'text': 'ਕਿਸੇ', 'timestamp': (93.71, 93.95)}, {'text': 'ਨੂੰ', 'timestamp': (93.95, 94.07)}, {'text': 'ਦੇਣਾ', 'timestamp': (94.07, 94.39)}, {'text': 'ਦੂਜੀ', 'timestamp': (94.63, 94.95)}, {'text': 'ਗੱਲ', 'timestamp': (94.95, 95.11)}, {'text': 'ਕਈ', 'timestamp': (95.55, 95.59)}, {'text': 'ਵਾਰ', 'timestamp': (95.63, 95.75)}, {'text': 'ਹੀ', 'timestamp': (95.75, 95.99)}, {'text': 'ਕੀ', 'timestamp': (95.99, 96.11)}, {'text': 'ਹੁੰਦਾ', 'timestamp': (96.11, 96.31)}, {'text': 'ਹੈ', 'timestamp': (96.31, 96.39)}, {'text': 'ਕਿ', 'timestamp': (96.39, 96.51)}, {'text': 'ਬਹੁਤ', 'timestamp': (96.51, 96.75)}, {'text': 'ਸਾਰੇ', 'timestamp': (96.75, 97.03)}, {'text': 'ਫਾਰਮਰਾਂ', 'timestamp': (97.03, 97.47)}, {'text': 'ਦੇ', 'timestamp': (97.47, 97.91)}, {'text': 'ਯਾਨੀ', 'timestamp': (97.91, 98.07)}, {'text': 'ਕਿ', 'timestamp': (98.07, 98.23)}, {'text': 'ਕਿਸਾਨਾਂ', 'timestamp': (98.23, 98.67)}, {'text': 'ਦੇ', 'timestamp': (98.67, 98.75)}, {'text': 'ਖੇਤ', 'timestamp': (98.75, 99.07)}, {'text': 'ਉਹਨਾਂ', 'timestamp': (99.07, 99.23)}, {'text': 'ਦੇ', 'timestamp': (99.23, 99.35)}, {'text': 'ਘਰਾਂ', 'timestamp': (99.35, 99.59)}, {'text': 'ਤੋਂ', 'timestamp': (99.59, 99.67)}, {'text': 'ਦੂਰ', 'timestamp': (99.67, 99.91)}, {'text': 'ਹੁੰਦੇ', 'timestamp': (99.91, 100.11)}, {'text': 'ਨੇ', 'timestamp': (100.11, 100.31)}, {'text': 'ਉਹਨਾਂ', 'timestamp': (100.71, 100.83)}, {'text': 'ਨੂੰ', 'timestamp': (100.83, 100.95)}, {'text': 'ਬਾਰ', 'timestamp': (100.95, 101.15)}, {'text': 'ਬਾਰ', 'timestamp': (101.15, 101.31)}, {'text': 'ਦੇਖਣ', 'timestamp': (101.31, 101.67)}, {'text': 'ਜਾਣਾ', 'timestamp': (101.67, 102.03)}, {'text': 'ਪੈਂਦਾ', 'timestamp': (102.03, 102.19)}, {'text': 'ਹੈ', 'timestamp': (102.19, 102.27)}, {'text': 'ਵੀ', 'timestamp': (102.27, 102.35)}, {'text': 'ਮੋਟਰ', 'timestamp': (102.35, 102.59)}, {'text': 'ਦੀ', 'timestamp': (102.59, 102.75)}, {'text': 'ਲੋੜ', 'timestamp': (102.75, 102.95)}, {'text': 'ਹੈ', 'timestamp': (102.95, 103.27)}, {'text': 'ਚਲਾਈਏ', 'timestamp': (103.35, 103.75)}, {'text': 'ਨਾ', 'timestamp': (103.75, 104.03)}, {'text': 'ਚਲਾਈਏ', 'timestamp': (104.03, 104.39)}, {'text': 'ਹੈ', 'timestamp': (104.39, 104.55)}, {'text': 'ਨਾ', 'timestamp': (104.55, 104.63)}, {'text': 'ਤੁਹਾਨੂੰ', 'timestamp': (105.35, 105.79)}, {'text': 'ਸਟਾਰਟਿੰਗ', 'timestamp': (105.79, 106.19)}, {'text': 'ਚ', 'timestamp': (106.19, 106.23)}, {'text': 'ਹੀ', 'timestamp': (106.23, 106.35)}, {'text': 'ਦੱਸਦਾ', 'timestamp': (106.35, 106.67)}, {'text': 'ਕਿ', 'timestamp': (106.67, 106.79)}, {'text': 'ਆਪਾਂ', 'timestamp': (106.79, 106.95)}, {'text': 'ਸਤ੍ਹਾ', 'timestamp': (106.95, 107.23)}, {'text': 'ਸੁੱਕੀ', 'timestamp': (107.23, 107.55)}, {'text': 'ਦੇ', 'timestamp': (107.55, 107.75)}, {'text': 'ਕੇ', 'timestamp': (107.75, 107.87)}, {'text': 'ਕਈ', 'timestamp': (107.87, 107.91)}, {'text': 'ਵਾਰੀ', 'timestamp': (107.91, 108.15)}, {'text': 'ਪਾਣੀ', 'timestamp': (108.15, 108.39)}, {'text': 'ਲਾ', 'timestamp': (108.39, 108.55)}, {'text': 'ਦਿਨੇਂ', 'timestamp': (108.55, 108.75)}, {'text': 'ਹੈ', 'timestamp': (108.75, 108.83)}, {'text': 'ਬੱਟ', 'timestamp': (108.83, 108.95)}, {'text': 'ਅੰਦਰ', 'timestamp': (108.95, 109.19)}, {'text': 'ਪਾਣੀ', 'timestamp': (109.19, 109.47)}, {'text': 'ਹੁੰਦਾ', 'timestamp': (109.47, 109.75)}, {'text': 'ਹੈ', 'timestamp': (109.75, 109.83)}, {'text': 'ਖੇਤ', 'timestamp': (110.07, 110.31)}, {'text': 'ਤੇ', 'timestamp': (110.35, 110.51)}, {'text': 'ਜ਼ਮੀਨ', 'timestamp': (110.51, 110.83)}, {'text': 'ਦੇ', 'timestamp': (110.83, 110.91)}, {'text': 'ਅੰਦਰ', 'timestamp': (110.91, 111.11)}, {'text': 'ਤਾਂ', 'timestamp': (111.63, 111.71)}, {'text': 'ਆਪਣੀ', 'timestamp': (111.71, 111.95)}, {'text': 'ਪਾਣੀ', 'timestamp': (111.95, 112.27)}, {'text': 'ਦੀ', 'timestamp': (112.27, 112.39)}, {'text': 'ਬੱਚਤ', 'timestamp': (112.39, 112.71)}, {'text': 'ਕਰਾਊਗਾ', 'timestamp': (112.71, 113.07)}, {'text': 'ਸਿਰ', 'timestamp': (113.07, 113.19)}, {'text': 'ਪਹਿਲਾਂ', 'timestamp': (113.19, 113.51)}, {'text': 'ਦੂਜੀ', 'timestamp': (114.03, 114.35)}, {'text': 'ਗੱਲ', 'timestamp': (114.35, 114.55)}, {'text': 'ਬੇਸ਼ੱਕ', 'timestamp': (114.67, 115.07)}, {'text': 'ਆਪਾਂ', 'timestamp': (115.07, 115.39)}, {'text': 'ਉਹਨੂੰ', 'timestamp': (115.39, 115.55)}, {'text': 'ਬਿਜਲੀ', 'timestamp': (115.55, 115.79)}, {'text': 'ਦੀ', 'timestamp': (115.79, 116.03)}, {'text': 'ਸਬਸਿਡੀ', 'timestamp': (116.03, 116.39)}, {'text': 'ਮਿਲਦੀ', 'timestamp': (116.39, 116.75)}, {'text': 'ਐ', 'timestamp': (116.75, 117.27)}, {'text': 'ਬੱਟ', 'timestamp': (117.27, 117.43)}, {'text': 'ਮੋਟਰ', 'timestamp': (117.43, 117.75)}, {'text': 'ਤਾਂ', 'timestamp': (117.75, 117.95)}, {'text': 'ਭਾਵ', 'timestamp': (117.95, 118.23)}, {'text': 'ਦੀ', 'timestamp': (118.23, 118.43)}, {'text': 'ਉਹ', 'timestamp': (118.43, 118.47)}, {'text': 'ਚਲਾਉਂਦੇ', 'timestamp': (118.47, 118.71)}, {'text': 'ਨਾ', 'timestamp': (118.71, 118.87)}, {'text': 'ਸਿਰ', 'timestamp': (118.87, 118.99)}, {'text': 'ਕਿਡਨੀ', 'timestamp': (119.95, 120.63)}, {'text': 'ਘੱਟ', 'timestamp': (120.63, 120.91)}, {'text': 'ਚਲੋਗੀ', 'timestamp': (120.91, 121.31)}, {'text': 'ਉਨੀ', 'timestamp': (121.31, 121.55)}, {'text': 'ਕਸਾਈ', 'timestamp': (121.59, 121.95)}, {'text': 'ਕੱਟ', 'timestamp': (121.95, 122.07)}, {'text': 'ਹੋਗੀ', 'timestamp': (122.11, 122.47)}, {'text': 'ਉਹਨਾਂ', 'timestamp': (122.47, 122.67)}, {'text': 'ਲੰਬਾ', 'timestamp': (122.67, 123.03)}, {'text': 'ਸਾਡੇ', 'timestamp': (123.03, 123.23)}, {'text': 'ਨਾਲ', 'timestamp': (123.23, 123.43)}, {'text': 'ਕੰਮ', 'timestamp': (123.43, 123.67)}, {'text': 'ਕਰੂਗੀ', 'timestamp': (123.67, 124.03)}, {'text': 'ਮੋਟਰ', 'timestamp': (124.03, 124.31)}, {'text': 'ਤੀਜੀ', 'timestamp': (125.03, 125.51)}, {'text': 'ਗੱਲ', 'timestamp': (125.51, 125.67)}, {'text': 'ਕੀ', 'timestamp': (125.67, 125.79)}, {'text': 'ਹੁੰਦੀ', 'timestamp': (125.79, 126.11)}, {'text': 'ਐ', 'timestamp': (126.11, 126.15)}, {'text': 'ਸਿਰ', 'timestamp': (126.15, 126.31)}, {'text': 'ਜਦੋਂ', 'timestamp': (126.31, 126.47)}, {'text': 'ਆਪਾਂ', 'timestamp': (126.47, 126.55)}, {'text': 'ਜ਼ਿਆਦਾ', 'timestamp': (126.55, 127.19)}, {'text': 'ਪਾਣੀ', 'timestamp': (127.19, 127.43)}, {'text': 'ਲੈਂਦੇ', 'timestamp': (127.43, 127.79)}, {'text': 'ਆ', 'timestamp': (127.79, 127.83)}, {'text': 'ਨਾ', 'timestamp': (127.83, 127.95)}, {'text': 'ਤਾਂ', 'timestamp': (127.95, 128.07)}, {'text': 'ਫਸਲ', 'timestamp': (128.23, 128.55)}, {'text': 'ਨੂੰ', 'timestamp': (128.55, 128.67)}, {'text': 'ਉੱਲੀ', 'timestamp': (128.83, 129.07)}, {'text': 'ਦੀ', 'timestamp': (129.07, 129.23)}, {'text': 'ਬਿਮਾਰੀ', 'timestamp': (129.23, 129.55)}, {'text': 'ਲੱਗ', 'timestamp': (129.55, 129.71)}, {'text': 'ਜਾਂਦੀ', 'timestamp': (129.71, 129.99)}, {'text': 'ਐ', 'timestamp': (129.99, 130.79)}, {'text': 'ਜਿਹਦੀ', 'timestamp': (130.79, 131.07)}, {'text': 'ਫੇਰ', 'timestamp': (131.07, 131.19)}, {'text': 'ਆਪਾਂ', 'timestamp': (131.19, 131.39)}, {'text': 'ਨੂੰ', 'timestamp': (131.43, 131.55)}, {'text': 'ਸਪਰੇਅ', 'timestamp': (131.55, 131.91)}, {'text': 'ਕਰਾਨੀ', 'timestamp': (131.91, 132.23)}, {'text': 'ਪੈਂਦੀ', 'timestamp': (132.23, 132.55)}, {'text': 'ਐ', 'timestamp': (132.55, 132.59)}, {'text': 'ਔਰ', 'timestamp': (132.59, 132.67)}, {'text': 'ਉਹ', 'timestamp': (132.67, 132.79)}, {'text': 'ਮਹਿੰਗੀ', 'timestamp': (132.79, 133.15)}, {'text': 'ਬਹੁਤ', 'timestamp': (133.15, 133.43)}, {'text': 'ਆ', 'timestamp': (133.43, 133.47)}, {'text': 'ਹੈ', 'timestamp': (134.59, 134.75)}, {'text': 'ਨਾ', 'timestamp': (134.75, 134.83)}, {'text': 'ਸਿਰ', 'timestamp': (135.31, 135.43)}, {'text': 'ਕੀ', 'timestamp': (135.43, 135.67)}, {'text': 'ਹੁੰਦਾ', 'timestamp': (135.67, 135.91)}, {'text': 'ਹੈ', 'timestamp': (135.91, 135.99)}, {'text': 'ਕਿ', 'timestamp': (136.07, 136.35)}, {'text': 'ਇੱਕ', 'timestamp': (136.43, 136.59)}, {'text': 'ਤਾਂ', 'timestamp': (137.31, 137.39)}, {'text': 'ਉਸ', 'timestamp': (137.51, 137.55)}, {'text': 'ਪਰੇਸ਼ਾਨੀ', 'timestamp': (137.59, 138.07)}, {'text': 'ਆਪਾਂ', 'timestamp': (138.07, 138.27)}, {'text': 'ਨੂੰ', 'timestamp': (138.27, 138.43)}, {'text': 'ਪੁਰਾਣੀਆ', 'timestamp': (138.43, 138.75)}, {'text': 'ਪੈਂਦੀਆਂ', 'timestamp': (138.75, 139.47)}, {'text': 'ਕੋਈ', 'timestamp': (139.47, 139.63)}, {'text': 'ਓਦਾਂ', 'timestamp': (139.63, 139.79)}, {'text': 'ਦੀ', 'timestamp': (139.79, 139.87)}, {'text': 'ਜਿਹੜੀ', 'timestamp': (139.87, 140.11)}, {'text': 'ਪਾਣੀ', 'timestamp': (140.19, 140.67)}, {'text': 'ਦੀ', 'timestamp': (140.67, 140.75)}, {'text': 'ਵੱਧ', 'timestamp': (140.75, 140.95)}, {'text': 'ਮਾਤਰਾ', 'timestamp': (140.95, 141.39)}, {'text': 'ਦੇ', 'timestamp': (141.39, 141.47)}, {'text': 'ਨਾਲ', 'timestamp': (141.47, 141.87)}, {'text': 'ਫ਼ਸਲ', 'timestamp': (142.27, 142.59)}, {'text': 'ਨੂੰ', 'timestamp': (142.59, 142.71)}, {'text': 'ਬਿਮਾਰੀ', 'timestamp': (142.71, 143.11)}, {'text': 'ਹੋਣੀ', 'timestamp': (143.11, 143.43)}, {'text': 'ਉਹ', 'timestamp': (143.43, 143.55)}, {'text': 'ਨਹੀਂ', 'timestamp': (143.55, 143.83)}, {'text': 'ਲਗਦੀ', 'timestamp': (143.83, 144.15)}, {'text': 'ਜਿਹਦੇ', 'timestamp': (144.51, 144.71)}, {'text': 'ਨਾਲ', 'timestamp': (144.71, 144.95)}, {'text': 'ਝਾੜ', 'timestamp': (145.11, 145.43)}, {'text': 'ਵੀ', 'timestamp': (145.43, 145.59)}, {'text': 'ਵੱਧ', 'timestamp': (145.59, 145.79)}, {'text': 'ਹੈ', 'timestamp': (145.79, 145.87)}, {'text': 'ਸਿਰ', 'timestamp': (145.87, 146.07)}, {'text': 'ਤਾਂ', 'timestamp': (148.38, 148.94)}, {'text': 'ਕੀ', 'timestamp': (148.94, 149.02)}, {'text': 'ਕੰਮ', 'timestamp': (149.02, 149.14)}, {'text': 'ਐ', 'timestamp': (149.14, 149.22)}, {'text': 'ਔਰ', 'timestamp': (149.22, 149.26)}, {'text': 'ਕਿਉਂ', 'timestamp': (149.34, 149.58)}, {'text': 'ਆਪਾਂ', 'timestamp': (149.58, 149.94)}, {'text': 'ਕਰਾਉਣਾ', 'timestamp': (149.94, 150.42)}, {'text': 'ਇਹ', 'timestamp': (150.42, 150.54)}, {'text': 'ਦੋਨੋਂ', 'timestamp': (150.54, 150.78)}, {'text': 'ਜਾਣਕਾਰੀਆਂ', 'timestamp': (150.78, 151.34)}, {'text': 'ਮੈਂ', 'timestamp': (151.34, 151.42)}, {'text': 'ਤੁਹਾਨੂੰ', 'timestamp': (151.42, 151.7)}, {'text': 'ਦੇਤੀ', 'timestamp': (151.7, 152.1)}, {'text': 'ਆ', 'timestamp': (152.1, 152.14)}, {'text': 'ਇਹ', 'timestamp': (152.14, 152.18)}, {'text': 'ਵੀ', 'timestamp': (152.18, 152.42)}, {'text': 'ਦੱਸਦਾ', 'timestamp': (152.42, 152.74)}, {'text': 'ਕਿ', 'timestamp': (152.74, 152.82)}, {'text': 'ਇਹਦਾ', 'timestamp': (152.82, 153.06)}, {'text': 'ਕੋਈ', 'timestamp': (153.06, 153.22)}, {'text': 'ਵੀ', 'timestamp': (153.22, 153.46)}, {'text': 'ਪੈਸਾ', 'timestamp': (153.46, 153.78)}, {'text': 'ਤੁਸੀਂ', 'timestamp': (153.78, 154.02)}, {'text': 'ਕਿਸੇ', 'timestamp': (154.02, 154.18)}, {'text': 'ਨੂੰ', 'timestamp': (154.18, 154.34)}, {'text': 'ਨਹੀਂ', 'timestamp': (154.34, 154.46)}, {'text': 'ਦੇਣਾ', 'timestamp': (154.46, 154.62)}, {'text': 'ਹੈਗਾ', 'timestamp': (154.62, 154.78)}, {'text': 'ਜੇ', 'timestamp': (155.91, 155.99)}, {'text': 'ਤੁਸੀਂ', 'timestamp': (155.99, 156.79)}, {'text': 'ਸਾਡੀ', 'timestamp': (156.79, 157.39)}, {'text': 'ਐਡਵਾਈਜ਼ਰੀ', 'timestamp': (157.43, 158.15)}, {'text': 'ਦੇ', 'timestamp': (158.15, 158.23)}, {'text': 'ਮੁਤਾਬਕ', 'timestamp': (158.23, 158.79)}, {'text': 'ਖੇਤ', 'timestamp': (158.79, 159.15)}, {'text': 'ਦੇ', 'timestamp': (159.15, 159.23)}, {'text': 'ਵਿੱਚ', 'timestamp': (159.23, 159.47)}, {'text': 'ਪਾਣੀ', 'timestamp': (159.47, 159.83)}, {'text': 'ਲਾਉਣਗੇ', 'timestamp': (159.83, 160.31)}, {'text': 'ਤਾਂ', 'timestamp': (161.87, 161.95)}, {'text': 'ਇਹਦੇ', 'timestamp': (161.99, 162.11)}, {'text': 'ਨਾਲ', 'timestamp': (162.11, 162.27)}, {'text': 'ਤੁਹਾਨੂੰ', 'timestamp': (162.27, 162.55)}, {'text': 'ਫੈ', 'timestamp': (162.59, 162.87)}, {'text': 'ਰਹੀ', 'timestamp': (162.87, 163.03)}, {'text': 'ਹੈ', 'timestamp': (163.03, 163.11)}, {'text': 'ਸਿਰ', 'timestamp': (163.11, 163.23)}, {'text': 'ਠੀਕ', 'timestamp': (164.35, 164.55)}, {'text': 'ਐ', 'timestamp': (164.55, 164.59)}, {'text': 'ਜੀ', 'timestamp': (164.59, 164.99)}, {'text': 'ਠੀਕ', 'timestamp': (165.31, 165.47)}, {'text': 'ਐ', 'timestamp': (165.47, 165.51)}, {'text': 'ਸਿਰ', 'timestamp': (165.51, 165.63)}, {'text': 'ਸਮਾਂ', 'timestamp': (166.39, 166.59)}, {'text': 'ਦੇਣ', 'timestamp': (166.59, 166.83)}, {'text': 'ਵਾਸਤੇ', 'timestamp': (166.83, 167.19)}, {'text': 'ਬਹੁਤ', 'timestamp': (167.19, 167.35)}, {'text': 'ਬਹੁਤ', 'timestamp': (167.35, 167.51)}, {'text': 'ਧੰਨਵਾਦ', 'timestamp': (167.51, 167.99)}, {'text': 'ਸਿਰ', 'timestamp': (167.99, 168.19)}, {'text': 'ਕਿਸੇ', 'timestamp': (168.19, 168.51)}, {'text': 'ਵੀ', 'timestamp': (168.51, 168.67)}, {'text': 'ਤਰੀਕੇ', 'timestamp': (168.67, 168.99)}, {'text': 'ਦੀ', 'timestamp': (168.99, 169.07)}, {'text': 'ਕੋਈ', 'timestamp': (169.07, 169.15)}, {'text': 'ਹੋਰ', 'timestamp': (169.19, 169.39)}, {'text': 'ਜਾਣਕਾਰੀ', 'timestamp': (169.39, 169.87)}, {'text': 'ਜਾਨਣਾ', 'timestamp': (169.87, 170.15)}, {'text': 'ਚਾਹੁੰਨੇ', 'timestamp': (170.15, 170.51)}, {'text': 'ਓਂ', 'timestamp': (170.51, 170.55)}, {'text': 'ਪ੍ਰਾਜੈਕਟ', 'timestamp': (170.55, 170.91)}, {'text': 'ਨੂੰ', 'timestamp': (170.91, 171.03)}, {'text': 'ਲੈ', 'timestamp': (171.03, 171.23)}, {'text': 'ਕੇ', 'timestamp': (171.23, 171.31)}, {'text': 'ਮੈਂ', 'timestamp': (171.31, 171.39)}, {'text': 'ਪੁੱਛ', 'timestamp': (171.39, 171.59)}, {'text': 'ਸਕਦੀ', 'timestamp': (171.59, 171.91)}, {'text': 'ਆਂ', 'timestamp': (171.91, 171.95)}, {'text': 'ਸਿਰ', 'timestamp': (171.95, 172.07)}, {'text': 'ਬਹੁਤ', 'timestamp': (174.11, 174.31)}, {'text': 'ਬਹੁਤ', 'timestamp': (174.31, 174.47)}, {'text': 'ਧੰਨਵਾਦ', 'timestamp': (174.47, 174.75)}, {'text': 'ਸਿਰ', 'timestamp': (174.75, 174.95)}, {'text': 'ਥੋੜਾ', 'timestamp': (174.95, 175.23)}, {'text': 'ਸਮਾਂ', 'timestamp': (175.23, 175.35)}, {'text': 'ਦੇਣਾ', 'timestamp': (175.35, 175.55)}, {'text': 'ਸਿਰ', 'timestamp': (175.55, 175.67)}, {'text': 'ਸਤਿ', 'timestamp': (175.67, 175.87)}, {'text': 'ਸ਼੍ਰੀ', 'timestamp': (175.87, 176.19)}, {'text': 'ਅਕਾਲ', 'timestamp': (176.19, 176.35)}, {'text': 'ਜੀ', 'timestamp': (176.39, 176.47)}]}\n"
     ]
    }
   ],
   "source": [
    "transcript = transcribe_with_timestamps(input_audio_path)\n",
    "print(transcript)"
   ]
  },
  {
   "cell_type": "markdown",
   "id": "2d9b4a80",
   "metadata": {},
   "source": [
    "### 🕵️ Step 2: Detect PII Entities in Hindi Text\n",
    "\n",
    "This function uses the Azure client to recognize PII entities in a Hindi document. It:\n",
    "\n",
    "- Calls Azure's `recognize_pii_entities()` method with language set to `\"hi\"` (Hindi).\n",
    "- Prints redacted text and detailed info for each detected entity.\n",
    "- Returns a list of all PII words detected in the input.\n"
   ]
  },
  {
   "cell_type": "code",
   "execution_count": 4,
   "id": "6b73be8a",
   "metadata": {},
   "outputs": [
    {
     "name": "stdout",
     "output_type": "stream",
     "text": [
      "Redacted Text: ਹੈਲੋ। ਹੈਲੋ। ਹੈਲੋ ਹਾਂ ਜੀ ਸਤਿ ਸ੍ਰੀ ਅਕਾਲ ਜੀ *********** ਜੀ ਗੱਲ ਕਰ ਰਹੇ ਹੋ। ****** ਜੀ ਮੈਂ ************* ਪਟਿਆਲੇ ਤੋਂ ਗੱਲ ਕਰਦੀ ਆਂ। **** ਉਹਨਾਂ ਨੇ ਕਾਰਬਨ ਕ੍ਰੇਡਿਟ ਪ੍ਰੋਗ੍ਰਾਮ ਬਾਰੇ ਜਾਣਕਾਰੀ ਦਿੱਤੀ ਹੋਣੀ ਜਿਹੜੇ ਖੇਤਾਂ ਦੇ ਵਿੱਚ ਪਾਈਪ ਲੱਗਦੇ ਨੇ ਸਿਰ ਪਾਣੀ ਦਾ ਸੁਨੇਹਾ ਲਾਉਂਦੇ ਨੇ ਆਪਾਂ ਨੂੰ। ਠੀਕ ਐ ਜੀ ਤੇ ਮੈਂ ਤੁਹਾਨੂੰ ਇੱਕ ਤਰ੍ਹਾਂ ਦੀ ਕੰਪਨੀ ਵੱਲੋਂ ਤੁਹਾਨੂੰ ਵੈਲਕਮ ਕਾਲ ਹੈ ਤੇ ਦੂਜਾ ਜੇ ਤੁਹਾਨੂੰ ਇੱਕ ਪ੍ਰੋਜੈਕਟ ਬਾਰੇ ਕੁਝ ਵੀ ਸਮਝ ਨਹੀਂ ਆਇਆ ਜਾਣਨਾ ਚਾਹੁੰਦੇ ਹੋ ਤਾਂ ਤੁਸੀਂ ਮੈਨੂੰ ਪੁੱਛ ਸਕਦੇ ਹੋ। ਤੁਹਾਨੂੰ ਸਮਝ ਆਇਆ ਕਿ ਆਪਾਂ ਜੀ ਸੈਂਸਰ ਯਾ ਪਾਈਪ ਤੁਹਾਡੇ ਖੇਤਾਂ ਚ ਕਿਉਂ ਲਾਉਣੀ? ਨਹੀਂ ਜੀ ਓਕੇ *********** ਜੀ ਇਹ ਹੈ ਕਿ ਜਿਵੇਂ ਆਪਾਂ ਕਈ ਵਾਰੀ ਝੋਨੇ ਦੀ ਫਸਲ ਜਦੋਂ ਲਾ ਦਿੰਦੇ ਐ ਨਾ ਉਹ ਤੋਂ ਬਾਅਦ ਸਤ੍ਹਾ ਨੂੰ ਸੁੱਕਾ ਦੇਖ ਕੇ ਪਤਾ ਨਹੀਂ ਲਾ ਦਿੰਦੇ ਆ ਠੀਕ ਐ ਪਹਿਲਾਂ ਮੈਨੂੰ ਹੀ ਦੱਸੋਂਗੇ ਕਿ ਸੈਂਸਰ ਕੰਮ ਕੀ ਕਰਦੇ ਨੇ ਇਹ ਸੈਂਸਰ ਨਾ ਸਿਰ ਪੰਜ ਇੰਚ ਦੇ ਡਾਇਮੀਟਰ ਦੇ ਹੁੰਦੇ ਨੇ ਖੇਤ ਦੀ ਵੱਟ ਤੇ ਲੱਗ ਜਾਂਦੇ ਨੇ ਥੋੜੀ ਫ਼ਸਲ ਨੂੰ ਕੋਈ ਨੁਕਸਾਨ ਨਹੀਂ ਕੀਤਾ ਗਿਆ। ਪਾਣੀ ਦੀ ਮਾਤਰਾ ਦੀ ਲੋੜ ਹੋਊਗੀ ਪਾਣੀ ਦੀ ਲੋੜ ਹੋਊਗੀ ਮਸਜਿਦਏਗਾ ਵੀ *********** ਜੀ ਥੋਡੇ ਖੇਤ ਅੰਦਰ ਨਮੀ ਦੀ ਮਾਤਰਾ ਘਟ ਗਈ ਹੈ। ਕਿਰਪਾ ਕਰਕੇ ਮੋਟਰ ਚਲਾ ਦੋ। ਠੀਕ ਹੈ ਜਦੋਂ ਪਾਣੀ ਦੀ ਮਾਤਰਾ ਪੂਰੀ ਹੋ ਚੁੱਕੀ ਹੈ। ਤੁਹਾਨੂੰ ਫ਼ੇਡ ਮੈਸੇਜ ਆਊਗਾ ਵੀ *********** ਜੀ ਮੋਟਰ ਬੰਦ ਕਰ ਦਿਉ। ਨਵੀਂ ਦੀ ਮਾਤਰਾ ਪੂਰੀ ਹੋ ਗਈ। ਠੀਕ ਹੈ ਨਾ ਫਾਇਦੇ ਕੀ ਨੇ ਅਪਾਇਲ ਲਗਈਏ ਕਿਉਂ ਹੈ ਨਾ ਸਭ ਤੋਂ ਪਹਿਲੀ ਗੱਲ ਸਿਰ ਫ਼੍ਰੀ ਆਫ਼ ਕਾ** ਹੈਗਾ। ਕੋਈ ₹0.00 ਨਹੀਂ ਹੈ। ਤੁਸੀਂ ਕਿਸੇ ਨੂੰ ਦੇਣਾ ਦੂਜੀ ਗੱਲ ਕਈ ਵਾਰ ਹੀ ਕੀ ਹੁੰਦਾ ਹੈ ਕਿ ਬਹੁਤ ਸਾਰੇ ****ਰਾਂ ਦੇ ਯਾਨੀ ਕਿ ******* ਦੇ ਖੇਤ ਉਹਨਾਂ ਦੇ ਘਰਾਂ ਤੋਂ ਦੂਰ ਹੁੰਦੇ ਨੇ। ਉਹਨਾਂ ਨੂੰ ਬਾਰ ਬਾਰ ਦੇਖਣ ਜਾਣਾ ਪੈਂਦਾ ਹੈ। ਵੀ ਮੋਟਰ ਦੀ ਲੋੜ ਹੈ ਚਲਾਈਏ ਨਾ ਚਲਾਈਏ ਹੈ ਨਾ ਤੁਹਾਨੂੰ ਸਟਾਰਟਿੰਗ ਚ ਹੀ ਦੱਸਦਾ ਕਿ ਆਪਾਂ ਸਤ੍ਹਾ ਸੁੱਕੀ ਦੇ ਕੇ ਕਈ ਵਾਰੀ ਪਾਣੀ ਲਾ ਦਿਨੇਂ ਹੈ ਬੱਟ ਅੰਦਰ ਪਾਣੀ ਹੁੰਦਾ ਹੈ ਖੇਤ ਤੇ ਜ਼ਮੀਨ ਦੇ ਅੰਦਰ ਤਾਂ ਆਪਣੀ ਪਾਣੀ ਦੀ ਬੱਚਤ ਕਰਾਊਗਾ। ਸਿਰ ਪਹਿਲਾਂ ਦੂਜੀ ਗੱਲ ਬੇਸ਼ੱਕ ਆਪਾਂ ਉਹਨੂੰ ਬਿਜਲੀ ਦੀ ਸਬਸਿਡੀ ਮਿਲਦੀ ਐ। ਬੱਟ ਮੋਟਰ ਤਾਂ ਭਾਵ ਦੀ ਉਹ ਚਲਾਉਂਦੇ ਨਾ ਸਿਰ। **ਡਨੀ ਘੱਟ ਚਲੋਗੀ ਉਨੀ ਕਸਾਈ ਕੱਟ ਹੋਗੀ। ਉਹਨਾਂ ਲੰਬਾ ਸਾਡੇ ਨਾਲ ਕੰਮ ਕਰੂਗੀ ਮੋਟਰ ਤੀਜੀ ਗੱਲ ਕੀ ਹੁੰਦੀ ਐ ਸਿਰ ਜਦੋਂ ਆਪਾਂ ਜ਼ਿਆਦਾ ਪਾਣੀ ਲੈਂਦੇ ਆ ਨਾ ਤਾਂ ਫਸਲ ਨੂੰ ਉੱਲੀ ਦੀ ਬਿਮਾਰੀ ਲੱਗ ਜਾਂਦੀ ਐ ਜਿਹਦੀ ਫੇਰ ਆਪਾਂ ਨੂੰ ਸਪਰੇਅ ਕਰਾਨੀ ਪੈਂਦੀ ਐ ਔਰ ਉਹ ਮਹਿੰਗੀ ਬਹੁਤ ਆ। ਹੈ ਨਾ ਸਿਰ ਕੀ ਹੁੰਦਾ ਹੈ ਕਿ ਇੱਕ ਤਾਂ ਉਸ ਪਰੇਸ਼ਾਨੀ ਆਪਾਂ ਨੂੰ ਪੁਰਾਣੀਆ ਪੈਂਦੀਆਂ। ਕੋਈ ਓਦਾਂ ਦੀ ਜਿਹੜੀ ਪਾਣੀ ਦੀ ਵੱਧ ਮਾਤਰਾ ਦੇ ਨਾਲ ਫ਼ਸਲ ਨੂੰ ਬਿਮਾਰੀ ਹੋਣੀ, ਉਹ ਨਹੀਂ ਲਗਦੀ ਜਿਹਦੇ ਨਾਲ ਝਾੜ ਵੀ ਵੱਧ ਹੈ ਸਿਰ। ਤਾਂ ਕੀ ਕੰਮ ਐ ਔਰ ਕਿਉਂ ਆਪਾਂ ਕਰਾਉਣਾ ਇਹ ਦੋਨੋਂ ਜਾਣਕਾਰੀਆਂ ਮੈਂ ਤੁਹਾਨੂੰ ਦੇਤੀ ਆ। ਇਹ ਵੀ ਦੱਸਦਾ ਕਿ ਇਹਦਾ ਕੋਈ ਵੀ ₹0.00 ਤੁਸੀਂ ਕਿਸੇ ਨੂੰ ਨਹੀਂ ਦੇਣਾ ਹੈਗਾ। ਜੇ ਤੁਸੀਂ ਸਾਡੀ ਐਡਵਾਈਜ਼ਰੀ ਦੇ ਮੁਤਾਬਕ ਖੇਤ ਦੇ ਵਿੱਚ ਪਾਣੀ ਲਾਉਣਗੇ। ਤਾਂ ਇਹਦੇ ਨਾਲ ਤੁਹਾਨੂੰ ਫੈ ਰਹੀ ਹੈ ਸਿਰ। ਠੀਕ ਐ ਜੀ ਠੀਕ ਐ ਸਿਰ ਸਮਾਂ ਦੇਣ ਵਾਸਤੇ ਬਹੁਤ ਬਹੁਤ ਧੰਨਵਾਦ ਸਿਰ ਕਿਸੇ ਵੀ ਤਰੀਕੇ ਦੀ ਕੋਈ ਹੋਰ ਜਾਣਕਾਰੀ ਜਾਨਣਾ ਚਾਹੁੰਨੇ ਓਂ ਪ੍ਰਾਜੈਕਟ ਨੂੰ ਲੈ ਕੇ ਮੈਂ ਪੁੱਛ ਸਕਦੀ ਆਂ ਸਿਰ। ਬਹੁਤ ਬਹੁਤ ਧੰਨਵਾਦ ਸਿਰ ਥੋੜਾ ਸਮਾਂ ਦੇਣਾ ਸਿਰ ਸਤਿ ਸ਼੍ਰੀ **** ਜੀ।\n",
      "Entity: ਕੁਲਦੀਪ ਸਿੰਘ\n",
      "\tCategory: Person\n",
      "\tConfidence Score: 0.93\n",
      "\tOffset: 41\n",
      "\tLength: 11\n",
      "Entity: ਕੁਲਬੀਰ\n",
      "\tCategory: Person\n",
      "\tConfidence Score: 0.99\n",
      "\tOffset: 71\n",
      "\tLength: 6\n",
      "Entity: ਕਲਤਿਬਿਟ ਕੰਪਨੀ\n",
      "\tCategory: Organization\n",
      "\tConfidence Score: 0.63\n",
      "\tOffset: 85\n",
      "\tLength: 13\n",
      "Entity: ਕੁਲਦੀਪ ਸਿੰਘ\n",
      "\tCategory: Person\n",
      "\tConfidence Score: 0.96\n",
      "\tOffset: 513\n",
      "\tLength: 11\n",
      "Entity: ਕੁਲਦੀਪ ਸਿੰਘ\n",
      "\tCategory: Person\n",
      "\tConfidence Score: 0.84\n",
      "\tOffset: 867\n",
      "\tLength: 11\n",
      "Entity: ਕੁਲਦੀਪ ਸਿੰਘ\n",
      "\tCategory: Person\n",
      "\tConfidence Score: 0.89\n",
      "\tOffset: 1014\n",
      "\tLength: 11\n"
     ]
    }
   ],
   "source": [
    "asr_text = [transcript['text']]\n",
    "pii_result = detect_pii_entities(asr_text)\n",
    "pii_words = []\n",
    "for doc in pii_result:\n",
    "    print(\"Redacted Text: {}\".format(doc.redacted_text))\n",
    "    for entity in doc.entities:\n",
    "        if entity.confidence_score > 0.6 and entity.category in ['Person', 'Organization', 'PhoneNumber', 'Address', 'Location']:\n",
    "            print(\"Entity: {}\".format(entity.text))\n",
    "            pii_words.append(entity.text)\n",
    "            print(\"\\tCategory: {}\".format(entity.category))\n",
    "            print(\"\\tConfidence Score: {}\".format(entity.confidence_score))\n",
    "            print(\"\\tOffset: {}\".format(entity.offset))\n",
    "            print(\"\\tLength: {}\".format(entity.length))"
   ]
  },
  {
   "cell_type": "markdown",
   "id": "136b8964",
   "metadata": {},
   "source": [
    "### 🧠 Step 3: Map PII Words to Audio Word Timestamps\n",
    "\n",
    "This function attempts to align each detected PII word to a timestamped word chunk in the ASR output using:\n",
    "\n",
    "- Fuzzy string matching (`SequenceMatcher`) to allow for slight mismatches.\n",
    "- Returns a list of timestamps corresponding to each PII word.\n",
    "\n",
    "This is crucial for knowing **where** in the audio to apply redaction.\n"
   ]
  },
  {
   "cell_type": "code",
   "execution_count": 5,
   "id": "508ae1c3",
   "metadata": {},
   "outputs": [
    {
     "name": "stdout",
     "output_type": "stream",
     "text": [
      "[(10.92, 11.16), (13.03, 13.55), (13.75, 14.15), (45.87, 46.83), (74.63, 75.03), (83.99, 84.43)]\n"
     ]
    }
   ],
   "source": [
    "pii_segments = map_pii_to_timestamps(pii_words, transcript['chunks'], threshold=0.6)\n",
    "print(pii_segments)"
   ]
  },
  {
   "cell_type": "code",
   "execution_count": 6,
   "id": "3c301928",
   "metadata": {},
   "outputs": [
    {
     "data": {
      "text/plain": [
       "6"
      ]
     },
     "execution_count": 6,
     "metadata": {},
     "output_type": "execute_result"
    }
   ],
   "source": [
    "len(pii_segments)"
   ]
  },
  {
   "cell_type": "markdown",
   "id": "3259f5c5",
   "metadata": {},
   "source": [
    "### 🔇 Step 4: Mute Audio Segments Containing PII\n",
    "\n",
    "This function takes the original audio file and the timestamps of detected PII, and:\n",
    "\n",
    "- Loads the audio using `torchaudio`.\n",
    "- Silences the waveform between each PII segment (sets amplitude to zero).\n",
    "- Saves the redacted audio file to `output_audio/` directory, replacing `\"in-\"` with `\"out-\"` in the filename.\n"
   ]
  },
  {
   "cell_type": "code",
   "execution_count": 7,
   "id": "1e8f12f3",
   "metadata": {},
   "outputs": [
    {
     "name": "stdout",
     "output_type": "stream",
     "text": [
      "✅ Redacted audio saved at: output_audio\\out-9872019796-1001-20250530-154113-1748599873.42156.wav\n"
     ]
    }
   ],
   "source": [
    "redact_audio(input_audio_path,pii_segments)"
   ]
  }
 ],
 "metadata": {
  "kernelspec": {
   "display_name": "myenv",
   "language": "python",
   "name": "python3"
  },
  "language_info": {
   "codemirror_mode": {
    "name": "ipython",
    "version": 3
   },
   "file_extension": ".py",
   "mimetype": "text/x-python",
   "name": "python",
   "nbconvert_exporter": "python",
   "pygments_lexer": "ipython3",
   "version": "3.12.4"
  }
 },
 "nbformat": 4,
 "nbformat_minor": 5
}

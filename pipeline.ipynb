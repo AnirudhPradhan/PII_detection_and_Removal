{
 "cells": [
  {
   "cell_type": "code",
   "execution_count": 70,
   "id": "baaf9385",
   "metadata": {},
   "outputs": [],
   "source": [
    "from packages.transcripts import transcribe_with_timestamps\n",
    "from packages.PII_detection import detect_pii_entities\n",
    "from packages.mapTimeStamps import map_pii_to_timestamps\n",
    "from packages.saveRedactedAudo import redact_audio"
   ]
  },
  {
   "cell_type": "code",
   "execution_count": 71,
   "id": "4035b824",
   "metadata": {},
   "outputs": [],
   "source": [
    "input_audio_path = \"inputs/in-70001-919417328881-20250530-160219-1748601139.42162.wav\""
   ]
  },
  {
   "cell_type": "markdown",
   "id": "bcd5aa69",
   "metadata": {},
   "source": [
    "### 🎙️ Step 1: Transcribe Hindi Audio with Word-Level Timestamps\n",
    "\n",
    "This function uses Azure's Speech SDK to transcribe a WAV audio file in Hindi (`hi-IN`) and extract:\n",
    "\n",
    "- Recognized speech as text.\n",
    "- Word-level timestamps including start and end time (in seconds).\n",
    "\n",
    "The results are collected and returned in a structured dictionary with `text` and `chunks`.\n"
   ]
  },
  {
   "cell_type": "code",
   "execution_count": 72,
   "id": "36c5ad32",
   "metadata": {},
   "outputs": [
    {
     "name": "stdout",
     "output_type": "stream",
     "text": [
      "{'text': 'ਹੈਲੋ ਹਾਂਜੀ ਹਾਂਜੀ ਸਿਰ ਫੋਨ ਆਇਆ ਸੀ ਤੁਹਾਡਾ ਫੋਨ ਆਇਆ ਸੀ ਇੱਕ ਸੈਕਿੰਡ ਹੋਲਡ ਕਰੋ ਜੀ ਮੈਂ ਨਾਮ ਜਾਣ ਸਕਦੀ ਆਂ ਤੁਹਾਡਾ ਰਜਿੰਦਰ ਸਿੰਘ ਜੀ। ਰਜਿੰਦਰ ਸਿੰਘ, ਲਿਖ ਸਿੰਘ, ਰਾਜਿੰਦਰ ਸਿੰਘ ਲਾ ਲੇ ਐਲ ਏ। ਜੇ ਆਈ। ਐੱਨ। ਡੀ। ਏ। ਆ। ਰਾਜਿੰਦਰ ਸਿੰਘ ਜੀ ਮੈਂ ਕਲਟੀਵੇਟ ਕੰਪਨੀ ਪਟਿਆਲੇ ਤੋਂ ਗੱਲ ਕਰ ਰਹੀ ਹਾਂ ਤੁਹਾਡੀ। ਕੋਲੇ ਨਾ ਸਾਡਾ ਕੋਈ ਨਾ ਕੋਈ ਫੀਲਡ ਆਫੀਸਰ ਆਇਆ ਹੋਣਾ। ਉਹ ਨੇ ਤੁਹਾਨੂੰ ਕਾਰਬਨ ਕ੍ਰੇਡਿਟ ਪ੍ਰੋਗਰਾਮ ਬਾਰੇ ਜਾਣਕਾਰੀ ਦਿੱਤੀ ਹੋਣੀ ਸਿਰ। ਜਿਹੜੇ ਖੇਤਾਂ ਦੇ ਵਿੱਚ ਪਾਈਪ ਲੱਗਦੇ ਨੇ ਸਿਰ। ਆਈਡੀਆ ਮੈਸੇਜ ਲੋਨ ਦੇਣੀ। ਨਹੀਂ ਮੇਰੇ ਕੋਲ ਕੋਈ ਨਹੀਂ ਆਇਆ ਜੀ ਅਜੇ। ਜਸਵੰਤ ਸਿੰਘ ਜੀ ਲਈ ਅੱਛਾ ਸ਼ਵਾਨ ਸਿੰਘ ਦਾ ਫਰਡੇ ਆ ਜੀ ਹੈਗਾ। ਉਹ ਮਸ਼ੀਨ ਐ ਉਹ ਕਰੀ ਜਾਂਦੇ ਨੇ ਨਾ ਜੀ ਖੇਦ ਤਾਚ ਸਾਧੂ ਮਸ਼ੀਨ ਨਾਲ। ਮੈਂ ਤੁਹਾਨੂੰ ਦੱਸਦੀ ਆਂ। ਜਸਵੰਤ ਸਿੰਘ ਜੀ ਨੇ ਤੁਹਾਨੂੰ ਜੋ ਦੱਸਿਆ ਹੁਣ ਆਈ ਸੀ। ਉਹਦਾ ਪ੍ਰਾਪਰ ਦੱਸ ਨੀ ਪਾਏ ਯਾ ਤੁਸੀਂ ਸਮਝ ਨਹੀਂ ਪਾਏ। ਦੱਸੋ ਜੀ। ਮੈਂ ਨਾ ਸੈਂਸਰ ਲੈ ਜਾਂਦਾ। ਪਾਈਪ ਕਹਿੰਦੇ ਨੇ ਅਸੀਂ ਕੰਪਨੀ ਨੂੰ ਸੈਂਸਰ ਕਹਿਦੇ ਨੇ ਬੱਟ ਦੇ ਨਾਲ ਲੱਗ ਜੁਗਾ ਪਹਿਲੀ ਗੱਲ ਥੋੜੀ ਫਸਲ ਦੇ ਵਿੱਚ ਕੋਈ ਨੁਕਸਾਨ ਨੀ ਕਰੂਗਾ। ਕੋਈ ਜਗ੍ਹਾ ਨੀ ਜਿਆਦਾ ਖੇਡਿਓ ਖੈਰੂਗਾ ਠੀਕ ਆ ਠੀਕ ਆ ਜੀ ਠੀਕ ਆ ਠੀਕ ਰਹੂਗਾ ਕੀ ਜਦੋਂ ਤੁਹਾਡੇ ਖੇਤ ਦੇ ਵਿੱਚ ਪਾਣੀ ਦੀ ਮਾਤਰਾ ਕੱਟਜੂਗੀ। ਹਾਂਜੀ। ਂਦਰ ਸਿੰਘ ਜੀ ਤੁਹਾਡੇ ਖੇਤ ਦੇ ਵਿੱਚ ਪਾਣੀ ਦੀ ਮਾਤਰਾ ਘਟ ਗਈ ਹੈ। ਕਿਰਪਾ ਕਰਕੇ ਮੋਟਰ ਚਲਾ ਦੋ ਠੀਕ ਐ ਜੀ। ਜਿਹੜਾ ਵੀ ਪਾਣੀ ਦਾ ਸੈੱਟ ਕਰਾਂਗੇ ਤੁਹਾਡੀ ਪਾਣੀ ਦੇ ਸੁੱਕਣ ਦੀ ਗਤੀ ਵੀ ਅਲੱਗ ਅਲੱਗ ਹੁੰਦੀ ਹੈ ਹੈ ਨਾ ਜਿੱਥੇ ਉਹ ਦੇਖੀਏ। ਇਹਦੇ ਵਿੱਚ ਪਾਣੀ ਦੀ ਮਾਤਰਾ ਪੂਰੀ ਹੋ ਜਾਣੀ ਹੈ। ਫੇਰ ਮੈਸੇਜ ਆਜੂਗਾ ਜੀ ਨਮੀ ਦੀ ਮਾਤਰਾ ਪੂਰੀ ਹੋਊਗੀ। ਮੋਟਰ ਬੰਦ ਕਰ ਤੋਂ ਇਹ ਪਹਿਲਾਂ ਤਾਂ ਮੈਂ ਤੁਹਾਨੂੰ ਇਹ ਹੋਰ ਕੰਮ ਦੱਸਿਆ ਹੈ ਵੀ ਉਹ ਕਰਦਾਂ ਕਿ ਹੈ ਹੁਣ ਆਪਣਾ ਜਵਨਾ ਕਿਉਂ ਹੈ? ਹੁਣ ਕਿਉਂ ਹੈ ਨੂੰ ਕੀ ਲੋੜ ਐ। ਹਾਂਜੀ ਲੋੜ ਇਸ ਕਰਕੇ ਹੈ ਸਿਰ ਕਈ ਫ਼ਾਰਮ ਦਾ ਕਈ ਕਿਸਾਨਾਂ ਦਾ ਜਿਹੜਾ ਘਰ ਹੈ ਉਹ ਖੇਤ ਤੋਂ ਖਸੀ ਦੂਰ ਹੁੰਦਾ ਹੈ। ਬਾਰ ਬਾਰ ਜਾ ਕੇ ਚੈਕ ਕਰਨਾ ਕਈ ਵਾਰੀ ਪਾਣੀ ਵੱਧ ਲੱਗ ਜਾਂਦਾ ਹੈ ਜਾਂ ਘੱਟ ਲਗ ਜਾਂਦਾ ਹੈ ਤਾਂ ਆਪਣੀ ਸਮੇਂ ਦੀ ਬਚਤ ਕਰੁਗਾ ਦੂਜਾ ਮੰਨੇ ਆਪਾਂ ਨੂੰ ਬਿਜਲੀ ਦੀ ਸਬਸਿਡੀ ਮਿਲਦੀ ਹੈ ਪਰ ਮਾਤਾ ਜੀ ਆਬ੍ਰਿਓ ਖਿਲੋਣੇ ਹਾਂ। ਹੈ ਨਾ ਜਿੰਨੀ ਮੋਟਰ ਘੱਟ ਚਲੁਗੀ ਉਹਨਾਂ ਜਿਆਦਾ ਲੰਬਾ ਟਾਈਮ ਸਿਰ ਡਿਨਾ ਕੱਟੂਗੀ। ਦੂਜਾ ਵਿਦਾਈ ਹੋ ਗਿਆ ਜੀ ਤੀਜਾ ਮੇਰਾ ਕੀ ਹੁੰਦਾ ਹੈ ਜਦੋਂ ਅਸੀਂ ਪਾਣੀ ਬਦਲਾਨੇ ਨਾ ਸਰਕਾਰ ਦਾ ਫ਼ਸਲ ਨੂੰ ਉੱਲੀ ਦੀ ਬਿਮਾਰੀ ਵੀ ਲਾਨੀ ਹੁੰਦੀ ਹੈ ਜਿਹੜੇ ਫਿਰ ਆਪਾਂ ਨੂੰ ਸਵੇਰੇਹਾਂ ਕਰਨੀਆਂ ਪੈਂਦੀਆਂ ਨੇ ਉਹ ਬਹੁਤ ਮਹਿੰਗੀਆਂ ਹੁੰਦੀਆਂ ਨੇ ਜੀ ਦਾ ਇਫੈਕਟ ਉੱਲੀ ਨੂੰ ਤਾਂ ਖਤਮ ਕਰ ਦੇਈਏ ਥੋੜ੍ਹਾ ਬਹੁਤ ਝਾੜਤੇ ਵੀ ਫਰਕ ਪਾਉਂਦੇ। ਠੀਕ ਆ ਜੀ ਤੁਸੀਂ ਪਾਣੀ ਖੇਤਰ ਦੇ ਵਿੱਚ ਜਿਆਦਾ ਖੜਾ ਹੁੰਦਾ। ਤੁਸੀਂ ਨੋਟ ਕੀਤਾ ਹੋਣਾ ਬੁਲਬਲੇ ਨਿਕਲਦੇ ਨੇ। ਪਾਣੀ ਚੋਂ ਉਹਦਾ ਮਿਥੇਨ ਗੈਸ ਹੁੰਦੀ ਐ ਜਿਹੜੀ ਫ਼ਸਲ ਨੂੰ ਵੀ ਖਰਾਬ ਕਰਦੀ ਆ। ਬਾਕੀ ਦੇ ਇਨਵਾਇਰਨਮੈਂਟ ਨੂੰ ਵੀ ਖਰਾਬ ਕਰਦੀ ਐ। ਜ਼ਿਆਦਾ ਪਾਣੀ ਖੜਨਾੜ੍ਹ ਤੁਹਾਡੀ ਫ਼ਸਲ ਨੂੰ ਵੀ ਖਰਾਬ ਕਰਦੀ ਆ। ਆਪਣੀ ਤੁਸੀਂ ਨੋਟ ਨਹੀਂ ਕੀਤਾ ਜਦੋਂ ਮਸਲਾ ਮੌਸਮ ਆ ਜਾਂਦਾ। ਖੜ੍ਹੇ ਖੜ੍ਹੇ ਜਾ ਪਰ ਤੁਸੀਂ ਨਾਈਜ਼ਾ। ਆਪਣੇ ਆਸਮਾਨ ਦੇ ਵਿੱਚ ਨਾ ਮਿੱਥੇਨ ਗੇ ਜਿਆਦਾ ਬਣ ਜਾਂਦੀ ਐ ਜਿਆਦਾ ਪਾਣੀ ਖੇਤਾਂ ਵਿਚ ਲਾਣ ਕਰਕੇ ਔਰ ਸਾਡੀ ਫ਼ਸਲ ਦਾ ਝਾੜ ਵੀ ਘੱਟ ਦਾ। ਜੇ ਤੁਸੀਂ ਇਹ ਸੈਂਸਰ ਲਗਾਉਣੇ ਹੋ ਤਾਂ ਤੁਹਾਨੂੰ ਇਕ ਤਾਂ ਸਭ ਤੋਂ ਵਧੀਆ ਗੱਲ ਇਹਦਾ ਕੋਈ ₹0.00 ਨਹੀਂ ਦੇਣਾ। ਬਿਲਕੁਲ ਫ਼੍ਰੀ ਆਫ਼ ਕਾਸਟੈ ਵੀ ਮੁੜ ਕੇ ਇਕ ਸਾਡਾ ਉਸ ਸੈਂਸਰ ਨੂੰ ਕੱਢ ਕੇ ਲੈਕੇ ਜਾਣਾ। ਤੁਹਾਨੂੰ ਮੈਸੇਜ ਭੇਜਣੇ ਇਹ ਸਾਰੀ ਸਰਵਿਸਿਜ਼ ਥੋਨੂੰ ਕੰਪਨੀ ਵੱਲੋਂ ਫ਼੍ਰੀ ਨੇ। ਤੁਹਾਨੂੰ ਫਾਇਦਾ ਕੀ ਹੋ ਰਿਹਾ ਹੈ? ਥੋੜਾ ਪਾਣੀ ਬਚ ਰਿਹਾ ਹੈ। ਤੁਹਾਡੀ ਮੋਟਰ ਦੀ ਉਮਰ ਵੱਧ ਰਹੀ ਹੈ। ਥੋੜਾ ਝਾੜ ਵੱਧ ਰਹੀ ਹੈ। ਠੀਕ ਹੈ ਜੀ ਠੀਕ ਹੈ ਨਾ ਇਹ ਥੋਨੂੰ ਫਾਇਦੇ ਹੋ ਰਹੇ ਹੈ ਜੀ ਬੱਸ ਜੀ, ਮੈ ਤਾ ਤੁਹਾਡੇ ਨਾਲਾ ਕੋਈ ਚੱਕਰ ਨਹੀਂ ਦੱਸੋ। ਮੈਦਾ ਪੇਂਟਰ ਤੁਸੀ ਹੋਰ ਆਪਾ ਨੇ ਨਾਲ ਬਹੁਤ ਜੁੜਿਆ ਹੈ ਜੀ। ਤੁਸੀ ਸਾਡੇ ਮੁਤਾਬਿਕ ਚਲ ਨੀ ਜਾਉਗੇ ਤਾ ਉਹਦੇ ਨਾਲ ਪਾਣੀ ਵੀ ਦੇਖੋ ਪੰਜਾਬ ਤੇ ਪੰਜ ਤਰਾਂ ਦੀ ਧਰਤੀ ਹੁੰਦਾ ਸੀ। ਸਰ। ਅਨੁਜਾਗ੍ਰ ਹਾਂ ਜੀ ਮੈ ਮ ਜੋ ਵੀ ਆਪਾਂ ਨੂੰ ਕਿਤੇ ਜਾਗਰੂਕ ਕਰਨਾ ਸੀਗਾ ਕੈਂਪਲ ਆਉਣ ਦੀ ਲੋੜ ਹੋਈ ਤਾਂ ਮੈਂ ਹਾਜਿਰ ਆ ਜਿਹੜੇ ਮਰਜ਼ੀ ਬੰਦੇ ਕਦੇ ਬਹੁਤ ਦਿਮਾਗੀ ਬਹੁਤ ਬਹੁਤ ਧੰਨਵਾਦ। ਰਾਜਿੰਦਰ ਜੀ ਤੁਹਾਡਾ ਠੀਕ ਐ ਜੀ ਜਰੂਰ ਕਮੈਂਟ ਦੇ ਵਿੱਚ ਇਹ ਮੈਂਸ਼ਨ ਕਰੂਗੀ ਕੀ ਤੁਸੀਂ ਬਹੁਤ ਅੱਛਿਆ ਤਰੀਕੇ ਨਾਲ ਸਪੋਰਟ ਕਰਨ ਨੂੰ ਤਿਆਰ ਹੋ ਤੇ ਮੇਰੀ ਕੋਈ ਗੱਲ ਨਹੀਂ ਜੀ ਨਾਲ ਆਪਾਂ ਆ ਗਿਆ ਠੀਕ ਐ ਜੀ ਕਹਿਦੋ ਜਸਵੰਤ ਨੇ ਹੀ ਸ਼ਾਮ ਨੂੰ ਅੱਜ ਮੈਨੂੰ ਜੀ। ਠੀਕ ਐ ਸਿਰ ਠੀਕ ਐ ਸਿਰ। ਓਕੇ।', 'chunks': [{'text': 'ਹੈਲੋ', 'timestamp': (3.95, 4.23)}, {'text': 'ਹਾਂਜੀ', 'timestamp': (5.03, 5.51)}, {'text': 'ਹਾਂਜੀ', 'timestamp': (6.51, 6.79)}, {'text': 'ਸਿਰ', 'timestamp': (7.87, 7.99)}, {'text': 'ਫੋਨ', 'timestamp': (7.99, 8.31)}, {'text': 'ਆਇਆ', 'timestamp': (8.31, 8.43)}, {'text': 'ਸੀ', 'timestamp': (8.43, 8.59)}, {'text': 'ਤੁਹਾਡਾ', 'timestamp': (8.59, 8.95)}, {'text': 'ਫੋਨ', 'timestamp': (9.63, 9.83)}, {'text': 'ਆਇਆ', 'timestamp': (9.83, 10.03)}, {'text': 'ਸੀ', 'timestamp': (10.03, 10.19)}, {'text': 'ਇੱਕ', 'timestamp': (10.27, 10.35)}, {'text': 'ਸੈਕਿੰਡ', 'timestamp': (10.59, 10.95)}, {'text': 'ਹੋਲਡ', 'timestamp': (10.95, 11.19)}, {'text': 'ਕਰੋ', 'timestamp': (11.23, 11.47)}, {'text': 'ਜੀ', 'timestamp': (11.51, 11.59)}, {'text': 'ਮੈਂ', 'timestamp': (11.63, 11.79)}, {'text': 'ਨਾਮ', 'timestamp': (11.79, 12.19)}, {'text': 'ਜਾਣ', 'timestamp': (12.19, 12.31)}, {'text': 'ਸਕਦੀ', 'timestamp': (12.47, 12.63)}, {'text': 'ਆਂ', 'timestamp': (12.63, 12.67)}, {'text': 'ਤੁਹਾਡਾ', 'timestamp': (12.67, 12.99)}, {'text': 'ਰਜਿੰਦਰ', 'timestamp': (13.47, 13.87)}, {'text': 'ਸਿੰਘ', 'timestamp': (13.87, 14.11)}, {'text': 'ਜੀ', 'timestamp': (14.15, 14.23)}, {'text': 'ਰਜਿੰਦਰ', 'timestamp': (17.32, 17.56)}, {'text': 'ਸਿੰਘ', 'timestamp': (17.96, 18.12)}, {'text': 'ਲਿਖ', 'timestamp': (18.12, 18.24)}, {'text': 'ਸਿੰਘ', 'timestamp': (18.56, 18.72)}, {'text': 'ਰਾਜਿੰਦਰ', 'timestamp': (18.72, 19.28)}, {'text': 'ਸਿੰਘ', 'timestamp': (19.28, 19.48)}, {'text': 'ਲਾ', 'timestamp': (21.24, 21.56)}, {'text': 'ਲੇ', 'timestamp': (21.56, 22.52)}, {'text': 'ਐਲ', 'timestamp': (22.64, 22.92)}, {'text': 'ਏ', 'timestamp': (22.92, 22.96)}, {'text': 'ਜੇ', 'timestamp': (22.96, 23.12)}, {'text': 'ਆਈ', 'timestamp': (23.12, 23.16)}, {'text': 'ਐੱਨ', 'timestamp': (23.16, 23.24)}, {'text': 'ਡੀ', 'timestamp': (23.24, 23.6)}, {'text': 'ਏ', 'timestamp': (23.6, 23.64)}, {'text': 'ਆ', 'timestamp': (23.64, 23.68)}, {'text': 'ਰਾਜਿੰਦਰ', 'timestamp': (25.19, 25.59)}, {'text': 'ਸਿੰਘ', 'timestamp': (25.59, 25.79)}, {'text': 'ਜੀ', 'timestamp': (25.79, 25.95)}, {'text': 'ਮੈਂ', 'timestamp': (25.95, 26.15)}, {'text': 'ਕਲਟੀਵੇਟ', 'timestamp': (26.15, 26.59)}, {'text': 'ਕੰਪਨੀ', 'timestamp': (26.59, 26.91)}, {'text': 'ਪਟਿਆਲੇ', 'timestamp': (26.91, 27.39)}, {'text': 'ਤੋਂ', 'timestamp': (27.39, 27.51)}, {'text': 'ਗੱਲ', 'timestamp': (27.51, 27.71)}, {'text': 'ਕਰ', 'timestamp': (27.71, 27.83)}, {'text': 'ਰਹੀ', 'timestamp': (27.83, 28.03)}, {'text': 'ਹਾਂ', 'timestamp': (28.03, 28.15)}, {'text': 'ਤੁਹਾਡੀ', 'timestamp': (28.71, 29.23)}, {'text': 'ਕੋਲੇ', 'timestamp': (29.96, 30.16)}, {'text': 'ਨਾ', 'timestamp': (30.16, 30.32)}, {'text': 'ਸਾਡਾ', 'timestamp': (30.32, 30.6)}, {'text': 'ਕੋਈ', 'timestamp': (30.6, 30.72)}, {'text': 'ਨਾ', 'timestamp': (30.72, 30.8)}, {'text': 'ਕੋਈ', 'timestamp': (30.8, 31.0)}, {'text': 'ਫੀਲਡ', 'timestamp': (31.0, 31.28)}, {'text': 'ਆਫੀਸਰ', 'timestamp': (31.28, 31.44)}, {'text': 'ਆਇਆ', 'timestamp': (31.44, 31.48)}, {'text': 'ਹੋਣਾ', 'timestamp': (31.48, 31.84)}, {'text': 'ਉਹ', 'timestamp': (31.84, 32.2)}, {'text': 'ਨੇ', 'timestamp': (32.2, 32.28)}, {'text': 'ਤੁਹਾਨੂੰ', 'timestamp': (32.28, 32.96)}, {'text': 'ਕਾਰਬਨ', 'timestamp': (33.24, 33.64)}, {'text': 'ਕ੍ਰੇਡਿਟ', 'timestamp': (33.64, 34.0)}, {'text': 'ਪ੍ਰੋਗਰਾਮ', 'timestamp': (34.08, 34.52)}, {'text': 'ਬਾਰੇ', 'timestamp': (34.52, 34.76)}, {'text': 'ਜਾਣਕਾਰੀ', 'timestamp': (34.76, 35.28)}, {'text': 'ਦਿੱਤੀ', 'timestamp': (35.28, 35.48)}, {'text': 'ਹੋਣੀ', 'timestamp': (35.48, 35.72)}, {'text': 'ਸਿਰ', 'timestamp': (35.72, 35.88)}, {'text': 'ਜਿਹੜੇ', 'timestamp': (37.15, 37.55)}, {'text': 'ਖੇਤਾਂ', 'timestamp': (37.55, 37.91)}, {'text': 'ਦੇ', 'timestamp': (37.91, 37.99)}, {'text': 'ਵਿੱਚ', 'timestamp': (37.99, 38.27)}, {'text': 'ਪਾਈਪ', 'timestamp': (38.27, 38.55)}, {'text': 'ਲੱਗਦੇ', 'timestamp': (38.55, 39.03)}, {'text': 'ਨੇ', 'timestamp': (39.03, 39.11)}, {'text': 'ਸਿਰ', 'timestamp': (39.11, 39.23)}, {'text': 'ਆਈਡੀਆ', 'timestamp': (41.15, 41.43)}, {'text': 'ਮੈਸੇਜ', 'timestamp': (41.51, 41.71)}, {'text': 'ਲੋਨ', 'timestamp': (41.71, 41.99)}, {'text': 'ਦੇਣੀ', 'timestamp': (41.99, 42.27)}, {'text': 'ਨਹੀਂ', 'timestamp': (43.39, 43.63)}, {'text': 'ਮੇਰੇ', 'timestamp': (43.63, 43.87)}, {'text': 'ਕੋਲ', 'timestamp': (43.87, 43.99)}, {'text': 'ਕੋਈ', 'timestamp': (43.99, 44.19)}, {'text': 'ਨਹੀਂ', 'timestamp': (44.19, 44.59)}, {'text': 'ਆਇਆ', 'timestamp': (44.59, 44.63)}, {'text': 'ਜੀ', 'timestamp': (44.63, 44.71)}, {'text': 'ਅਜੇ', 'timestamp': (44.71, 44.87)}, {'text': 'ਜਸਵੰਤ', 'timestamp': (46.88, 47.08)}, {'text': 'ਸਿੰਘ', 'timestamp': (47.08, 47.24)}, {'text': 'ਜੀ', 'timestamp': (47.24, 48.0)}, {'text': 'ਲਈ', 'timestamp': (48.16, 48.2)}, {'text': 'ਅੱਛਾ', 'timestamp': (49.16, 49.32)}, {'text': 'ਸ਼ਵਾਨ', 'timestamp': (49.32, 49.6)}, {'text': 'ਸਿੰਘ', 'timestamp': (49.6, 49.84)}, {'text': 'ਦਾ', 'timestamp': (49.84, 49.92)}, {'text': 'ਫਰਡੇ', 'timestamp': (49.92, 50.24)}, {'text': 'ਆ', 'timestamp': (50.24, 50.28)}, {'text': 'ਜੀ', 'timestamp': (50.28, 50.52)}, {'text': 'ਹੈਗਾ', 'timestamp': (50.76, 50.96)}, {'text': 'ਉਹ', 'timestamp': (51.04, 51.08)}, {'text': 'ਮਸ਼ੀਨ', 'timestamp': (51.08, 51.64)}, {'text': 'ਐ', 'timestamp': (51.64, 51.76)}, {'text': 'ਉਹ', 'timestamp': (51.76, 51.8)}, {'text': 'ਕਰੀ', 'timestamp': (52.76, 52.96)}, {'text': 'ਜਾਂਦੇ', 'timestamp': (52.96, 53.24)}, {'text': 'ਨੇ', 'timestamp': (53.24, 53.32)}, {'text': 'ਨਾ', 'timestamp': (53.32, 53.4)}, {'text': 'ਜੀ', 'timestamp': (53.4, 53.48)}, {'text': 'ਖੇਦ', 'timestamp': (54.04, 54.2)}, {'text': 'ਤਾਚ', 'timestamp': (54.24, 54.56)}, {'text': 'ਸਾਧੂ', 'timestamp': (55.04, 55.36)}, {'text': 'ਮਸ਼ੀਨ', 'timestamp': (55.36, 55.72)}, {'text': 'ਨਾਲ', 'timestamp': (55.72, 55.96)}, {'text': 'ਮੈਂ', 'timestamp': (57.8, 57.88)}, {'text': 'ਤੁਹਾਨੂੰ', 'timestamp': (57.88, 58.16)}, {'text': 'ਦੱਸਦੀ', 'timestamp': (58.16, 58.92)}, {'text': 'ਆਂ', 'timestamp': (58.92, 59.12)}, {'text': 'ਜਸਵੰਤ', 'timestamp': (59.12, 59.32)}, {'text': 'ਸਿੰਘ', 'timestamp': (59.44, 59.64)}, {'text': 'ਜੀ', 'timestamp': (59.64, 59.84)}, {'text': 'ਨੇ', 'timestamp': (59.84, 59.92)}, {'text': 'ਤੁਹਾਨੂੰ', 'timestamp': (59.92, 60.24)}, {'text': 'ਜੋ', 'timestamp': (60.24, 60.32)}, {'text': 'ਦੱਸਿਆ', 'timestamp': (60.4, 60.6)}, {'text': 'ਹੁਣ', 'timestamp': (60.6, 60.92)}, {'text': 'ਆਈ', 'timestamp': (60.92, 60.96)}, {'text': 'ਸੀ', 'timestamp': (60.96, 61.04)}, {'text': 'ਉਹਦਾ', 'timestamp': (61.04, 61.28)}, {'text': 'ਪ੍ਰਾਪਰ', 'timestamp': (61.28, 61.52)}, {'text': 'ਦੱਸ', 'timestamp': (61.52, 61.8)}, {'text': 'ਨੀ', 'timestamp': (61.8, 62.0)}, {'text': 'ਪਾਏ', 'timestamp': (62.0, 62.08)}, {'text': 'ਯਾ', 'timestamp': (62.08, 62.36)}, {'text': 'ਤੁਸੀਂ', 'timestamp': (62.36, 62.56)}, {'text': 'ਸਮਝ', 'timestamp': (62.56, 62.84)}, {'text': 'ਨਹੀਂ', 'timestamp': (62.84, 63.04)}, {'text': 'ਪਾਏ', 'timestamp': (63.04, 63.24)}, {'text': 'ਦੱਸੋ', 'timestamp': (64.07, 64.27)}, {'text': 'ਜੀ', 'timestamp': (65.91, 66.71)}, {'text': 'ਮੈਂ', 'timestamp': (67.8, 67.88)}, {'text': 'ਨਾ', 'timestamp': (67.96, 68.36)}, {'text': 'ਸੈਂਸਰ', 'timestamp': (68.36, 68.64)}, {'text': 'ਲੈ', 'timestamp': (68.64, 68.72)}, {'text': 'ਜਾਂਦਾ', 'timestamp': (68.72, 69.76)}, {'text': 'ਪਾਈਪ', 'timestamp': (70.0, 70.16)}, {'text': 'ਕਹਿੰਦੇ', 'timestamp': (70.2, 70.52)}, {'text': 'ਨੇ', 'timestamp': (70.52, 70.64)}, {'text': 'ਅਸੀਂ', 'timestamp': (70.64, 70.84)}, {'text': 'ਕੰਪਨੀ', 'timestamp': (70.84, 71.24)}, {'text': 'ਨੂੰ', 'timestamp': (71.24, 71.36)}, {'text': 'ਸੈਂਸਰ', 'timestamp': (71.72, 72.0)}, {'text': 'ਕਹਿਦੇ', 'timestamp': (72.0, 72.28)}, {'text': 'ਨੇ', 'timestamp': (72.28, 72.4)}, {'text': 'ਬੱਟ', 'timestamp': (73.8, 74.0)}, {'text': 'ਦੇ', 'timestamp': (74.0, 74.2)}, {'text': 'ਨਾਲ', 'timestamp': (74.2, 74.56)}, {'text': 'ਲੱਗ', 'timestamp': (74.56, 74.68)}, {'text': 'ਜੁਗਾ', 'timestamp': (74.68, 74.88)}, {'text': 'ਪਹਿਲੀ', 'timestamp': (74.88, 75.2)}, {'text': 'ਗੱਲ', 'timestamp': (75.2, 75.32)}, {'text': 'ਥੋੜੀ', 'timestamp': (75.4, 75.56)}, {'text': 'ਫਸਲ', 'timestamp': (75.72, 75.88)}, {'text': 'ਦੇ', 'timestamp': (75.88, 76.04)}, {'text': 'ਵਿੱਚ', 'timestamp': (76.04, 76.24)}, {'text': 'ਕੋਈ', 'timestamp': (76.28, 76.52)}, {'text': 'ਨੁਕਸਾਨ', 'timestamp': (76.52, 76.92)}, {'text': 'ਨੀ', 'timestamp': (76.92, 77.04)}, {'text': 'ਕਰੂਗਾ', 'timestamp': (77.04, 77.44)}, {'text': 'ਕੋਈ', 'timestamp': (77.44, 77.52)}, {'text': 'ਜਗ੍ਹਾ', 'timestamp': (77.52, 77.68)}, {'text': 'ਨੀ', 'timestamp': (77.68, 77.84)}, {'text': 'ਜਿਆਦਾ', 'timestamp': (77.84, 78.44)}, {'text': 'ਖੇਡਿਓ', 'timestamp': (78.44, 78.6)}, {'text': 'ਖੈਰੂਗਾ', 'timestamp': (78.84, 79.2)}, {'text': 'ਠੀਕ', 'timestamp': (79.44, 79.56)}, {'text': 'ਆ', 'timestamp': (79.56, 79.8)}, {'text': 'ਠੀਕ', 'timestamp': (79.8, 79.96)}, {'text': 'ਆ', 'timestamp': (79.96, 80.0)}, {'text': 'ਜੀ', 'timestamp': (80.0, 80.2)}, {'text': 'ਠੀਕ', 'timestamp': (80.32, 80.44)}, {'text': 'ਆ', 'timestamp': (80.44, 80.48)}, {'text': 'ਠੀਕ', 'timestamp': (80.48, 80.6)}, {'text': 'ਰਹੂਗਾ', 'timestamp': (80.68, 81.04)}, {'text': 'ਕੀ', 'timestamp': (81.04, 81.16)}, {'text': 'ਜਦੋਂ', 'timestamp': (81.36, 81.68)}, {'text': 'ਤੁਹਾਡੇ', 'timestamp': (81.68, 82.04)}, {'text': 'ਖੇਤ', 'timestamp': (82.04, 82.52)}, {'text': 'ਦੇ', 'timestamp': (82.52, 82.6)}, {'text': 'ਵਿੱਚ', 'timestamp': (82.6, 82.84)}, {'text': 'ਪਾਣੀ', 'timestamp': (82.92, 83.16)}, {'text': 'ਦੀ', 'timestamp': (83.16, 83.48)}, {'text': 'ਮਾਤਰਾ', 'timestamp': (83.48, 84.0)}, {'text': 'ਕੱਟਜੂਗੀ', 'timestamp': (84.0, 84.6)}, {'text': 'ਹਾਂਜੀ', 'timestamp': (85.39, 85.83)}, {'text': 'ਂਦਰ', 'timestamp': (87.64, 87.72)}, {'text': 'ਸਿੰਘ', 'timestamp': (87.72, 87.92)}, {'text': 'ਜੀ', 'timestamp': (87.92, 88.2)}, {'text': 'ਤੁਹਾਡੇ', 'timestamp': (88.2, 88.48)}, {'text': 'ਖੇਤ', 'timestamp': (88.48, 88.96)}, {'text': 'ਦੇ', 'timestamp': (88.96, 89.08)}, {'text': 'ਵਿੱਚ', 'timestamp': (89.08, 89.44)}, {'text': 'ਪਾਣੀ', 'timestamp': (90.04, 90.44)}, {'text': 'ਦੀ', 'timestamp': (90.44, 90.52)}, {'text': 'ਮਾਤਰਾ', 'timestamp': (90.52, 91.0)}, {'text': 'ਘਟ', 'timestamp': (91.0, 91.2)}, {'text': 'ਗਈ', 'timestamp': (91.2, 91.32)}, {'text': 'ਹੈ', 'timestamp': (91.32, 91.84)}, {'text': 'ਕਿਰਪਾ', 'timestamp': (91.84, 92.44)}, {'text': 'ਕਰਕੇ', 'timestamp': (92.44, 92.76)}, {'text': 'ਮੋਟਰ', 'timestamp': (92.76, 93.12)}, {'text': 'ਚਲਾ', 'timestamp': (93.12, 93.4)}, {'text': 'ਦੋ', 'timestamp': (93.4, 93.56)}, {'text': 'ਠੀਕ', 'timestamp': (94.2, 94.32)}, {'text': 'ਐ', 'timestamp': (94.32, 94.56)}, {'text': 'ਜੀ', 'timestamp': (94.56, 94.64)}, {'text': 'ਜਿਹੜਾ', 'timestamp': (95.07, 95.83)}, {'text': 'ਵੀ', 'timestamp': (95.83, 96.47)}, {'text': 'ਪਾਣੀ', 'timestamp': (96.47, 96.95)}, {'text': 'ਦਾ', 'timestamp': (96.95, 97.67)}, {'text': 'ਸੈੱਟ', 'timestamp': (97.67, 97.95)}, {'text': 'ਕਰਾਂਗੇ', 'timestamp': (97.95, 98.43)}, {'text': 'ਤੁਹਾਡੀ', 'timestamp': (99.31, 100.07)}, {'text': 'ਪਾਣੀ', 'timestamp': (100.79, 102.75)}, {'text': 'ਦੇ', 'timestamp': (103.03, 103.15)}, {'text': 'ਸੁੱਕਣ', 'timestamp': (103.15, 103.55)}, {'text': 'ਦੀ', 'timestamp': (103.55, 103.91)}, {'text': 'ਗਤੀ', 'timestamp': (104.35, 104.55)}, {'text': 'ਵੀ', 'timestamp': (104.55, 104.75)}, {'text': 'ਅਲੱਗ', 'timestamp': (104.75, 104.95)}, {'text': 'ਅਲੱਗ', 'timestamp': (104.95, 105.19)}, {'text': 'ਹੁੰਦੀ', 'timestamp': (105.19, 105.55)}, {'text': 'ਹੈ', 'timestamp': (105.55, 105.75)}, {'text': 'ਹੈ', 'timestamp': (106.31, 106.39)}, {'text': 'ਨਾ', 'timestamp': (106.71, 106.79)}, {'text': 'ਜਿੱਥੇ', 'timestamp': (106.79, 107.07)}, {'text': 'ਉਹ', 'timestamp': (107.07, 107.11)}, {'text': 'ਦੇਖੀਏ', 'timestamp': (107.11, 107.39)}, {'text': 'ਇਹਦੇ', 'timestamp': (107.39, 107.59)}, {'text': 'ਵਿੱਚ', 'timestamp': (107.59, 107.83)}, {'text': 'ਪਾਣੀ', 'timestamp': (107.83, 108.11)}, {'text': 'ਦੀ', 'timestamp': (108.11, 108.23)}, {'text': 'ਮਾਤਰਾ', 'timestamp': (108.23, 108.59)}, {'text': 'ਪੂਰੀ', 'timestamp': (108.63, 108.87)}, {'text': 'ਹੋ', 'timestamp': (108.87, 108.95)}, {'text': 'ਜਾਣੀ', 'timestamp': (108.95, 109.35)}, {'text': 'ਹੈ', 'timestamp': (109.35, 109.43)}, {'text': 'ਫੇਰ', 'timestamp': (109.47, 109.63)}, {'text': 'ਮੈਸੇਜ', 'timestamp': (109.63, 109.99)}, {'text': 'ਆਜੂਗਾ', 'timestamp': (109.99, 110.63)}, {'text': 'ਜੀ', 'timestamp': (110.67, 111.11)}, {'text': 'ਨਮੀ', 'timestamp': (111.11, 111.31)}, {'text': 'ਦੀ', 'timestamp': (111.31, 111.43)}, {'text': 'ਮਾਤਰਾ', 'timestamp': (111.43, 111.79)}, {'text': 'ਪੂਰੀ', 'timestamp': (111.79, 112.03)}, {'text': 'ਹੋਊਗੀ', 'timestamp': (112.03, 112.27)}, {'text': 'ਮੋਟਰ', 'timestamp': (112.27, 112.51)}, {'text': 'ਬੰਦ', 'timestamp': (112.51, 112.71)}, {'text': 'ਕਰ', 'timestamp': (112.71, 112.87)}, {'text': 'ਤੋਂ', 'timestamp': (112.91, 113.07)}, {'text': 'ਇਹ', 'timestamp': (113.75, 113.79)}, {'text': 'ਪਹਿਲਾਂ', 'timestamp': (113.79, 113.99)}, {'text': 'ਤਾਂ', 'timestamp': (114.07, 114.15)}, {'text': 'ਮੈਂ', 'timestamp': (114.15, 114.27)}, {'text': 'ਤੁਹਾਨੂੰ', 'timestamp': (114.27, 114.83)}, {'text': 'ਇਹ', 'timestamp': (114.95, 114.99)}, {'text': 'ਹੋਰ', 'timestamp': (114.99, 115.11)}, {'text': 'ਕੰਮ', 'timestamp': (115.11, 115.39)}, {'text': 'ਦੱਸਿਆ', 'timestamp': (115.39, 115.59)}, {'text': 'ਹੈ', 'timestamp': (115.59, 115.67)}, {'text': 'ਵੀ', 'timestamp': (115.67, 115.87)}, {'text': 'ਉਹ', 'timestamp': (115.87, 115.99)}, {'text': 'ਕਰਦਾਂ', 'timestamp': (115.99, 116.27)}, {'text': 'ਕਿ', 'timestamp': (116.27, 116.35)}, {'text': 'ਹੈ', 'timestamp': (116.43, 116.51)}, {'text': 'ਹੁਣ', 'timestamp': (117.15, 117.31)}, {'text': 'ਆਪਣਾ', 'timestamp': (117.39, 117.51)}, {'text': 'ਜਵਨਾ', 'timestamp': (117.59, 118.11)}, {'text': 'ਕਿਉਂ', 'timestamp': (118.11, 118.19)}, {'text': 'ਹੈ', 'timestamp': (118.19, 118.27)}, {'text': 'ਹੁਣ', 'timestamp': (118.27, 118.39)}, {'text': 'ਕਿਉਂ', 'timestamp': (118.39, 118.47)}, {'text': 'ਹੈ', 'timestamp': (118.47, 118.55)}, {'text': 'ਨੂੰ', 'timestamp': (118.55, 118.75)}, {'text': 'ਕੀ', 'timestamp': (118.75, 118.83)}, {'text': 'ਲੋੜ', 'timestamp': (118.83, 119.11)}, {'text': 'ਐ', 'timestamp': (119.11, 119.15)}, {'text': 'ਹਾਂਜੀ', 'timestamp': (120.23, 120.79)}, {'text': 'ਲੋੜ', 'timestamp': (120.95, 121.35)}, {'text': 'ਇਸ', 'timestamp': (121.35, 121.39)}, {'text': 'ਕਰਕੇ', 'timestamp': (121.43, 121.71)}, {'text': 'ਹੈ', 'timestamp': (121.71, 121.79)}, {'text': 'ਸਿਰ', 'timestamp': (121.79, 122.07)}, {'text': 'ਕਈ', 'timestamp': (122.79, 122.83)}, {'text': 'ਫ਼ਾਰਮ', 'timestamp': (122.83, 123.19)}, {'text': 'ਦਾ', 'timestamp': (123.19, 123.79)}, {'text': 'ਕਈ', 'timestamp': (123.79, 123.83)}, {'text': 'ਕਿਸਾਨਾਂ', 'timestamp': (123.83, 124.39)}, {'text': 'ਦਾ', 'timestamp': (124.39, 124.47)}, {'text': 'ਜਿਹੜਾ', 'timestamp': (124.47, 124.95)}, {'text': 'ਘਰ', 'timestamp': (124.95, 125.03)}, {'text': 'ਹੈ', 'timestamp': (125.03, 125.11)}, {'text': 'ਉਹ', 'timestamp': (125.11, 125.15)}, {'text': 'ਖੇਤ', 'timestamp': (125.15, 125.31)}, {'text': 'ਤੋਂ', 'timestamp': (125.35, 125.47)}, {'text': 'ਖਸੀ', 'timestamp': (125.47, 125.79)}, {'text': 'ਦੂਰ', 'timestamp': (125.79, 125.99)}, {'text': 'ਹੁੰਦਾ', 'timestamp': (125.99, 126.19)}, {'text': 'ਹੈ', 'timestamp': (126.19, 126.31)}, {'text': 'ਬਾਰ', 'timestamp': (127.35, 127.67)}, {'text': 'ਬਾਰ', 'timestamp': (127.71, 127.95)}, {'text': 'ਜਾ', 'timestamp': (127.95, 128.15)}, {'text': 'ਕੇ', 'timestamp': (128.15, 128.43)}, {'text': 'ਚੈਕ', 'timestamp': (128.43, 128.59)}, {'text': 'ਕਰਨਾ', 'timestamp': (128.59, 129.27)}, {'text': 'ਕਈ', 'timestamp': (129.27, 129.31)}, {'text': 'ਵਾਰੀ', 'timestamp': (129.31, 129.59)}, {'text': 'ਪਾਣੀ', 'timestamp': (129.59, 129.91)}, {'text': 'ਵੱਧ', 'timestamp': (129.99, 130.27)}, {'text': 'ਲੱਗ', 'timestamp': (130.27, 130.51)}, {'text': 'ਜਾਂਦਾ', 'timestamp': (130.51, 130.91)}, {'text': 'ਹੈ', 'timestamp': (130.91, 130.99)}, {'text': 'ਜਾਂ', 'timestamp': (130.99, 131.07)}, {'text': 'ਘੱਟ', 'timestamp': (131.11, 131.35)}, {'text': 'ਲਗ', 'timestamp': (131.35, 131.59)}, {'text': 'ਜਾਂਦਾ', 'timestamp': (131.59, 131.79)}, {'text': 'ਹੈ', 'timestamp': (131.79, 131.87)}, {'text': 'ਤਾਂ', 'timestamp': (131.87, 131.99)}, {'text': 'ਆਪਣੀ', 'timestamp': (131.99, 132.19)}, {'text': 'ਸਮੇਂ', 'timestamp': (132.19, 132.51)}, {'text': 'ਦੀ', 'timestamp': (132.51, 132.75)}, {'text': 'ਬਚਤ', 'timestamp': (132.75, 132.91)}, {'text': 'ਕਰੁਗਾ', 'timestamp': (132.91, 133.31)}, {'text': 'ਦੂਜਾ', 'timestamp': (134.19, 134.43)}, {'text': 'ਮੰਨੇ', 'timestamp': (134.47, 134.79)}, {'text': 'ਆਪਾਂ', 'timestamp': (134.79, 135.07)}, {'text': 'ਨੂੰ', 'timestamp': (135.07, 135.19)}, {'text': 'ਬਿਜਲੀ', 'timestamp': (135.19, 135.67)}, {'text': 'ਦੀ', 'timestamp': (135.67, 135.79)}, {'text': 'ਸਬਸਿਡੀ', 'timestamp': (135.79, 136.15)}, {'text': 'ਮਿਲਦੀ', 'timestamp': (136.15, 136.55)}, {'text': 'ਹੈ', 'timestamp': (136.55, 136.87)}, {'text': 'ਪਰ', 'timestamp': (137.39, 137.51)}, {'text': 'ਮਾਤਾ', 'timestamp': (137.87, 138.39)}, {'text': 'ਜੀ', 'timestamp': (138.43, 138.51)}, {'text': 'ਆਬ੍ਰਿਓ', 'timestamp': (138.51, 138.63)}, {'text': 'ਖਿਲੋਣੇ', 'timestamp': (138.63, 138.91)}, {'text': 'ਹਾਂ', 'timestamp': (138.91, 139.27)}, {'text': 'ਹੈ', 'timestamp': (140.83, 140.99)}, {'text': 'ਨਾ', 'timestamp': (140.99, 141.23)}, {'text': 'ਜਿੰਨੀ', 'timestamp': (141.47, 141.99)}, {'text': 'ਮੋਟਰ', 'timestamp': (141.99, 142.31)}, {'text': 'ਘੱਟ', 'timestamp': (142.31, 142.55)}, {'text': 'ਚਲੁਗੀ', 'timestamp': (142.55, 143.19)}, {'text': 'ਉਹਨਾਂ', 'timestamp': (143.39, 143.79)}, {'text': 'ਜਿਆਦਾ', 'timestamp': (143.95, 144.35)}, {'text': 'ਲੰਬਾ', 'timestamp': (144.35, 144.63)}, {'text': 'ਟਾਈਮ', 'timestamp': (144.63, 144.83)}, {'text': 'ਸਿਰ', 'timestamp': (144.87, 144.99)}, {'text': 'ਡਿਨਾ', 'timestamp': (144.99, 145.27)}, {'text': 'ਕੱਟੂਗੀ', 'timestamp': (145.27, 145.79)}, {'text': 'ਦੂਜਾ', 'timestamp': (146.27, 146.71)}, {'text': 'ਵਿਦਾਈ', 'timestamp': (146.71, 146.87)}, {'text': 'ਹੋ', 'timestamp': (146.87, 147.07)}, {'text': 'ਗਿਆ', 'timestamp': (147.07, 147.15)}, {'text': 'ਜੀ', 'timestamp': (147.23, 147.35)}, {'text': 'ਤੀਜਾ', 'timestamp': (147.71, 147.99)}, {'text': 'ਮੇਰਾ', 'timestamp': (148.11, 148.35)}, {'text': 'ਕੀ', 'timestamp': (148.35, 148.43)}, {'text': 'ਹੁੰਦਾ', 'timestamp': (148.51, 148.79)}, {'text': 'ਹੈ', 'timestamp': (148.79, 148.87)}, {'text': 'ਜਦੋਂ', 'timestamp': (148.87, 149.11)}, {'text': 'ਅਸੀਂ', 'timestamp': (149.19, 149.59)}, {'text': 'ਪਾਣੀ', 'timestamp': (149.59, 149.79)}, {'text': 'ਬਦਲਾਨੇ', 'timestamp': (149.79, 150.15)}, {'text': 'ਨਾ', 'timestamp': (150.15, 150.23)}, {'text': 'ਸਰਕਾਰ', 'timestamp': (150.23, 150.63)}, {'text': 'ਦਾ', 'timestamp': (150.63, 150.71)}, {'text': 'ਫ਼ਸਲ', 'timestamp': (150.71, 150.95)}, {'text': 'ਨੂੰ', 'timestamp': (150.95, 151.07)}, {'text': 'ਉੱਲੀ', 'timestamp': (151.31, 151.59)}, {'text': 'ਦੀ', 'timestamp': (151.59, 151.75)}, {'text': 'ਬਿਮਾਰੀ', 'timestamp': (151.75, 152.07)}, {'text': 'ਵੀ', 'timestamp': (152.07, 152.15)}, {'text': 'ਲਾਨੀ', 'timestamp': (152.15, 152.31)}, {'text': 'ਹੁੰਦੀ', 'timestamp': (152.31, 152.63)}, {'text': 'ਹੈ', 'timestamp': (152.63, 152.71)}, {'text': 'ਜਿਹੜੇ', 'timestamp': (153.71, 153.99)}, {'text': 'ਫਿਰ', 'timestamp': (153.99, 154.19)}, {'text': 'ਆਪਾਂ', 'timestamp': (154.19, 154.59)}, {'text': 'ਨੂੰ', 'timestamp': (154.59, 154.71)}, {'text': 'ਸਵੇਰੇਹਾਂ', 'timestamp': (154.75, 155.15)}, {'text': 'ਕਰਨੀਆਂ', 'timestamp': (155.15, 155.51)}, {'text': 'ਪੈਂਦੀਆਂ', 'timestamp': (155.55, 155.79)}, {'text': 'ਨੇ', 'timestamp': (155.79, 155.87)}, {'text': 'ਉਹ', 'timestamp': (155.87, 155.91)}, {'text': 'ਬਹੁਤ', 'timestamp': (155.91, 156.31)}, {'text': 'ਮਹਿੰਗੀਆਂ', 'timestamp': (156.31, 156.67)}, {'text': 'ਹੁੰਦੀਆਂ', 'timestamp': (156.67, 156.99)}, {'text': 'ਨੇ', 'timestamp': (156.99, 157.07)}, {'text': 'ਜੀ', 'timestamp': (157.07, 157.15)}, {'text': 'ਦਾ', 'timestamp': (157.59, 158.11)}, {'text': 'ਇਫੈਕਟ', 'timestamp': (158.19, 158.43)}, {'text': 'ਉੱਲੀ', 'timestamp': (158.99, 159.23)}, {'text': 'ਨੂੰ', 'timestamp': (159.23, 159.35)}, {'text': 'ਤਾਂ', 'timestamp': (159.35, 159.59)}, {'text': 'ਖਤਮ', 'timestamp': (159.59, 159.79)}, {'text': 'ਕਰ', 'timestamp': (159.79, 159.87)}, {'text': 'ਦੇਈਏ', 'timestamp': (159.87, 160.11)}, {'text': 'ਥੋੜ੍ਹਾ', 'timestamp': (160.11, 160.55)}, {'text': 'ਬਹੁਤ', 'timestamp': (160.55, 160.87)}, {'text': 'ਝਾੜਤੇ', 'timestamp': (160.87, 161.31)}, {'text': 'ਵੀ', 'timestamp': (161.31, 161.43)}, {'text': 'ਫਰਕ', 'timestamp': (161.43, 161.67)}, {'text': 'ਪਾਉਂਦੇ', 'timestamp': (161.67, 162.07)}, {'text': 'ਠੀਕ', 'timestamp': (163.12, 163.32)}, {'text': 'ਆ', 'timestamp': (163.32, 163.36)}, {'text': 'ਜੀ', 'timestamp': (163.36, 163.44)}, {'text': 'ਤੁਸੀਂ', 'timestamp': (163.44, 163.68)}, {'text': 'ਪਾਣੀ', 'timestamp': (164.6, 165.08)}, {'text': 'ਖੇਤਰ', 'timestamp': (165.08, 165.36)}, {'text': 'ਦੇ', 'timestamp': (165.36, 165.44)}, {'text': 'ਵਿੱਚ', 'timestamp': (165.44, 165.6)}, {'text': 'ਜਿਆਦਾ', 'timestamp': (165.6, 166.16)}, {'text': 'ਖੜਾ', 'timestamp': (166.16, 166.36)}, {'text': 'ਹੁੰਦਾ', 'timestamp': (166.36, 166.72)}, {'text': 'ਤੁਸੀਂ', 'timestamp': (166.72, 166.88)}, {'text': 'ਨੋਟ', 'timestamp': (166.88, 167.12)}, {'text': 'ਕੀਤਾ', 'timestamp': (167.12, 167.36)}, {'text': 'ਹੋਣਾ', 'timestamp': (167.36, 167.64)}, {'text': 'ਬੁਲਬਲੇ', 'timestamp': (167.64, 168.04)}, {'text': 'ਨਿਕਲਦੇ', 'timestamp': (168.04, 168.44)}, {'text': 'ਨੇ', 'timestamp': (168.44, 168.6)}, {'text': 'ਪਾਣੀ', 'timestamp': (168.6, 168.88)}, {'text': 'ਚੋਂ', 'timestamp': (168.88, 169.0)}, {'text': 'ਉਹਦਾ', 'timestamp': (169.48, 169.6)}, {'text': 'ਮਿਥੇਨ', 'timestamp': (169.64, 170.2)}, {'text': 'ਗੈਸ', 'timestamp': (170.2, 170.48)}, {'text': 'ਹੁੰਦੀ', 'timestamp': (170.48, 170.92)}, {'text': 'ਐ', 'timestamp': (170.92, 170.96)}, {'text': 'ਜਿਹੜੀ', 'timestamp': (170.96, 171.24)}, {'text': 'ਫ਼ਸਲ', 'timestamp': (171.24, 171.52)}, {'text': 'ਨੂੰ', 'timestamp': (171.52, 171.64)}, {'text': 'ਵੀ', 'timestamp': (171.64, 171.8)}, {'text': 'ਖਰਾਬ', 'timestamp': (171.8, 172.24)}, {'text': 'ਕਰਦੀ', 'timestamp': (172.24, 172.44)}, {'text': 'ਆ', 'timestamp': (172.44, 173.16)}, {'text': 'ਬਾਕੀ', 'timestamp': (173.16, 173.44)}, {'text': 'ਦੇ', 'timestamp': (173.44, 173.64)}, {'text': 'ਇਨਵਾਇਰਨਮੈਂਟ', 'timestamp': (173.64, 174.12)}, {'text': 'ਨੂੰ', 'timestamp': (174.12, 174.28)}, {'text': 'ਵੀ', 'timestamp': (174.28, 174.36)}, {'text': 'ਖਰਾਬ', 'timestamp': (174.36, 174.64)}, {'text': 'ਕਰਦੀ', 'timestamp': (174.64, 174.88)}, {'text': 'ਐ', 'timestamp': (174.88, 174.92)}, {'text': 'ਜ਼ਿਆਦਾ', 'timestamp': (177.6, 178.0)}, {'text': 'ਪਾਣੀ', 'timestamp': (178.0, 178.4)}, {'text': 'ਖੜਨਾੜ੍ਹ', 'timestamp': (178.4, 178.96)}, {'text': 'ਤੁਹਾਡੀ', 'timestamp': (179.04, 179.32)}, {'text': 'ਫ਼ਸਲ', 'timestamp': (179.44, 179.88)}, {'text': 'ਨੂੰ', 'timestamp': (179.88, 180.0)}, {'text': 'ਵੀ', 'timestamp': (180.0, 180.08)}, {'text': 'ਖਰਾਬ', 'timestamp': (180.08, 180.52)}, {'text': 'ਕਰਦੀ', 'timestamp': (180.52, 180.76)}, {'text': 'ਆ', 'timestamp': (180.76, 180.8)}, {'text': 'ਆਪਣੀ', 'timestamp': (180.8, 181.08)}, {'text': 'ਤੁਸੀਂ', 'timestamp': (181.08, 181.44)}, {'text': 'ਨੋਟ', 'timestamp': (181.64, 182.0)}, {'text': 'ਨਹੀਂ', 'timestamp': (182.0, 182.16)}, {'text': 'ਕੀਤਾ', 'timestamp': (182.16, 182.36)}, {'text': 'ਜਦੋਂ', 'timestamp': (182.36, 182.48)}, {'text': 'ਮਸਲਾ', 'timestamp': (182.48, 182.64)}, {'text': 'ਮੌਸਮ', 'timestamp': (182.64, 182.8)}, {'text': 'ਆ', 'timestamp': (182.8, 182.84)}, {'text': 'ਜਾਂਦਾ', 'timestamp': (182.84, 183.72)}, {'text': 'ਖੜ੍ਹੇ', 'timestamp': (184.27, 184.47)}, {'text': 'ਖੜ੍ਹੇ', 'timestamp': (184.47, 184.83)}, {'text': 'ਜਾ', 'timestamp': (184.83, 184.91)}, {'text': 'ਪਰ', 'timestamp': (184.91, 185.07)}, {'text': 'ਤੁਸੀਂ', 'timestamp': (185.07, 185.31)}, {'text': 'ਨਾਈਜ਼ਾ', 'timestamp': (185.31, 185.79)}, {'text': 'ਆਪਣੇ', 'timestamp': (187.92, 188.04)}, {'text': 'ਆਸਮਾਨ', 'timestamp': (188.08, 188.44)}, {'text': 'ਦੇ', 'timestamp': (188.44, 188.52)}, {'text': 'ਵਿੱਚ', 'timestamp': (188.52, 188.76)}, {'text': 'ਨਾ', 'timestamp': (188.76, 188.84)}, {'text': 'ਮਿੱਥੇਨ', 'timestamp': (188.88, 189.28)}, {'text': 'ਗੇ', 'timestamp': (189.28, 189.52)}, {'text': 'ਜਿਆਦਾ', 'timestamp': (189.52, 190.0)}, {'text': 'ਬਣ', 'timestamp': (190.0, 190.08)}, {'text': 'ਜਾਂਦੀ', 'timestamp': (190.08, 190.4)}, {'text': 'ਐ', 'timestamp': (190.4, 190.44)}, {'text': 'ਜਿਆਦਾ', 'timestamp': (190.44, 190.84)}, {'text': 'ਪਾਣੀ', 'timestamp': (190.84, 191.16)}, {'text': 'ਖੇਤਾਂ', 'timestamp': (191.16, 191.56)}, {'text': 'ਵਿਚ', 'timestamp': (191.56, 191.72)}, {'text': 'ਲਾਣ', 'timestamp': (191.76, 192.04)}, {'text': 'ਕਰਕੇ', 'timestamp': (192.04, 192.4)}, {'text': 'ਔਰ', 'timestamp': (193.32, 193.36)}, {'text': 'ਸਾਡੀ', 'timestamp': (193.76, 194.12)}, {'text': 'ਫ਼ਸਲ', 'timestamp': (194.12, 194.4)}, {'text': 'ਦਾ', 'timestamp': (194.44, 194.56)}, {'text': 'ਝਾੜ', 'timestamp': (194.68, 195.0)}, {'text': 'ਵੀ', 'timestamp': (195.0, 195.12)}, {'text': 'ਘੱਟ', 'timestamp': (195.12, 195.24)}, {'text': 'ਦਾ', 'timestamp': (195.24, 195.56)}, {'text': 'ਜੇ', 'timestamp': (196.12, 196.4)}, {'text': 'ਤੁਸੀਂ', 'timestamp': (196.44, 196.84)}, {'text': 'ਇਹ', 'timestamp': (196.84, 196.88)}, {'text': 'ਸੈਂਸਰ', 'timestamp': (196.88, 197.2)}, {'text': 'ਲਗਾਉਣੇ', 'timestamp': (197.2, 197.56)}, {'text': 'ਹੋ', 'timestamp': (197.56, 197.84)}, {'text': 'ਤਾਂ', 'timestamp': (199.08, 199.2)}, {'text': 'ਤੁਹਾਨੂੰ', 'timestamp': (199.2, 199.6)}, {'text': 'ਇਕ', 'timestamp': (199.72, 199.76)}, {'text': 'ਤਾਂ', 'timestamp': (199.76, 199.92)}, {'text': 'ਸਭ', 'timestamp': (199.92, 200.08)}, {'text': 'ਤੋਂ', 'timestamp': (200.08, 200.16)}, {'text': 'ਵਧੀਆ', 'timestamp': (200.24, 200.36)}, {'text': 'ਗੱਲ', 'timestamp': (200.36, 200.56)}, {'text': 'ਇਹਦਾ', 'timestamp': (200.56, 200.68)}, {'text': 'ਕੋਈ', 'timestamp': (200.68, 200.76)}, {'text': 'ਪੈਸਾ', 'timestamp': (200.76, 201.0)}, {'text': 'ਨਹੀਂ', 'timestamp': (201.0, 201.16)}, {'text': 'ਦੇਣਾ', 'timestamp': (201.16, 201.4)}, {'text': 'ਬਿਲਕੁਲ', 'timestamp': (201.68, 202.08)}, {'text': 'ਫ਼੍ਰੀ', 'timestamp': (202.08, 202.32)}, {'text': 'ਆਫ਼', 'timestamp': (202.36, 202.44)}, {'text': 'ਕਾਸਟੈ', 'timestamp': (202.48, 202.88)}, {'text': 'ਵੀ', 'timestamp': (203.24, 204.28)}, {'text': 'ਮੁੜ', 'timestamp': (204.36, 204.52)}, {'text': 'ਕੇ', 'timestamp': (204.52, 204.64)}, {'text': 'ਇਕ', 'timestamp': (204.64, 204.84)}, {'text': 'ਸਾਡਾ', 'timestamp': (204.84, 205.36)}, {'text': 'ਉਸ', 'timestamp': (205.4, 205.44)}, {'text': 'ਸੈਂਸਰ', 'timestamp': (205.44, 205.88)}, {'text': 'ਨੂੰ', 'timestamp': (205.88, 206.04)}, {'text': 'ਕੱਢ', 'timestamp': (206.04, 206.24)}, {'text': 'ਕੇ', 'timestamp': (206.24, 206.44)}, {'text': 'ਲੈਕੇ', 'timestamp': (206.44, 206.76)}, {'text': 'ਜਾਣਾ', 'timestamp': (206.76, 207.16)}, {'text': 'ਤੁਹਾਨੂੰ', 'timestamp': (207.48, 207.88)}, {'text': 'ਮੈਸੇਜ', 'timestamp': (207.88, 208.28)}, {'text': 'ਭੇਜਣੇ', 'timestamp': (208.28, 208.68)}, {'text': 'ਇਹ', 'timestamp': (209.2, 209.24)}, {'text': 'ਸਾਰੀ', 'timestamp': (209.24, 209.72)}, {'text': 'ਸਰਵਿਸਿਜ਼', 'timestamp': (209.76, 210.12)}, {'text': 'ਥੋਨੂੰ', 'timestamp': (210.44, 210.68)}, {'text': 'ਕੰਪਨੀ', 'timestamp': (210.68, 211.12)}, {'text': 'ਵੱਲੋਂ', 'timestamp': (211.12, 211.28)}, {'text': 'ਫ਼੍ਰੀ', 'timestamp': (211.36, 211.64)}, {'text': 'ਨੇ', 'timestamp': (211.64, 211.8)}, {'text': 'ਤੁਹਾਨੂੰ', 'timestamp': (212.19, 212.51)}, {'text': 'ਫਾਇਦਾ', 'timestamp': (212.51, 213.03)}, {'text': 'ਕੀ', 'timestamp': (213.03, 213.11)}, {'text': 'ਹੋ', 'timestamp': (213.11, 213.19)}, {'text': 'ਰਿਹਾ', 'timestamp': (213.19, 213.35)}, {'text': 'ਹੈ', 'timestamp': (213.35, 213.43)}, {'text': 'ਥੋੜਾ', 'timestamp': (213.43, 213.63)}, {'text': 'ਪਾਣੀ', 'timestamp': (213.63, 214.07)}, {'text': 'ਬਚ', 'timestamp': (214.07, 214.19)}, {'text': 'ਰਿਹਾ', 'timestamp': (214.19, 214.39)}, {'text': 'ਹੈ', 'timestamp': (214.39, 214.51)}, {'text': 'ਤੁਹਾਡੀ', 'timestamp': (214.55, 215.47)}, {'text': 'ਮੋਟਰ', 'timestamp': (215.47, 215.75)}, {'text': 'ਦੀ', 'timestamp': (215.75, 215.99)}, {'text': 'ਉਮਰ', 'timestamp': (215.99, 216.11)}, {'text': 'ਵੱਧ', 'timestamp': (216.11, 216.35)}, {'text': 'ਰਹੀ', 'timestamp': (216.35, 216.59)}, {'text': 'ਹੈ', 'timestamp': (216.59, 216.75)}, {'text': 'ਥੋੜਾ', 'timestamp': (217.07, 217.31)}, {'text': 'ਝਾੜ', 'timestamp': (217.35, 217.71)}, {'text': 'ਵੱਧ', 'timestamp': (217.71, 217.87)}, {'text': 'ਰਹੀ', 'timestamp': (217.87, 218.03)}, {'text': 'ਹੈ', 'timestamp': (218.03, 218.27)}, {'text': 'ਠੀਕ', 'timestamp': (218.87, 218.99)}, {'text': 'ਹੈ', 'timestamp': (219.03, 219.11)}, {'text': 'ਜੀ', 'timestamp': (219.67, 219.83)}, {'text': 'ਠੀਕ', 'timestamp': (219.87, 219.99)}, {'text': 'ਹੈ', 'timestamp': (219.99, 220.15)}, {'text': 'ਨਾ', 'timestamp': (220.15, 220.23)}, {'text': 'ਇਹ', 'timestamp': (220.23, 220.35)}, {'text': 'ਥੋਨੂੰ', 'timestamp': (220.35, 220.63)}, {'text': 'ਫਾਇਦੇ', 'timestamp': (220.63, 220.87)}, {'text': 'ਹੋ', 'timestamp': (220.87, 220.95)}, {'text': 'ਰਹੇ', 'timestamp': (220.99, 221.23)}, {'text': 'ਹੈ', 'timestamp': (221.27, 221.39)}, {'text': 'ਜੀ', 'timestamp': (222.11, 222.19)}, {'text': 'ਬੱਸ', 'timestamp': (222.19, 222.35)}, {'text': 'ਜੀ', 'timestamp': (222.35, 222.43)}, {'text': 'ਮੈ', 'timestamp': (222.43, 222.55)}, {'text': 'ਤਾ', 'timestamp': (222.55, 222.67)}, {'text': 'ਤੁਹਾਡੇ', 'timestamp': (222.67, 222.91)}, {'text': 'ਨਾਲਾ', 'timestamp': (222.91, 223.43)}, {'text': 'ਕੋਈ', 'timestamp': (223.43, 223.51)}, {'text': 'ਚੱਕਰ', 'timestamp': (223.51, 223.71)}, {'text': 'ਨਹੀਂ', 'timestamp': (223.71, 223.83)}, {'text': 'ਦੱਸੋ', 'timestamp': (223.83, 224.07)}, {'text': 'ਮੈਦਾ', 'timestamp': (224.07, 224.31)}, {'text': 'ਪੇਂਟਰ', 'timestamp': (224.47, 224.75)}, {'text': 'ਤੁਸੀ', 'timestamp': (224.75, 224.91)}, {'text': 'ਹੋਰ', 'timestamp': (224.91, 225.15)}, {'text': 'ਆਪਾ', 'timestamp': (225.15, 225.39)}, {'text': 'ਨੇ', 'timestamp': (225.39, 225.51)}, {'text': 'ਨਾਲ', 'timestamp': (225.51, 225.71)}, {'text': 'ਬਹੁਤ', 'timestamp': (225.71, 225.91)}, {'text': 'ਜੁੜਿਆ', 'timestamp': (225.91, 226.15)}, {'text': 'ਹੈ', 'timestamp': (226.15, 226.23)}, {'text': 'ਜੀ', 'timestamp': (226.23, 226.47)}, {'text': 'ਤੁਸੀ', 'timestamp': (228.72, 228.92)}, {'text': 'ਸਾਡੇ', 'timestamp': (228.92, 229.2)}, {'text': 'ਮੁਤਾਬਿਕ', 'timestamp': (229.2, 229.6)}, {'text': 'ਚਲ', 'timestamp': (229.72, 229.84)}, {'text': 'ਨੀ', 'timestamp': (229.84, 230.08)}, {'text': 'ਜਾਉਗੇ', 'timestamp': (230.08, 230.48)}, {'text': 'ਤਾ', 'timestamp': (230.8, 230.88)}, {'text': 'ਉਹਦੇ', 'timestamp': (231.44, 231.68)}, {'text': 'ਨਾਲ', 'timestamp': (231.68, 231.92)}, {'text': 'ਪਾਣੀ', 'timestamp': (232.0, 232.4)}, {'text': 'ਵੀ', 'timestamp': (232.4, 232.48)}, {'text': 'ਦੇਖੋ', 'timestamp': (232.48, 232.64)}, {'text': 'ਪੰਜਾਬ', 'timestamp': (232.64, 233.16)}, {'text': 'ਤੇ', 'timestamp': (233.24, 233.36)}, {'text': 'ਪੰਜ', 'timestamp': (233.36, 233.56)}, {'text': 'ਤਰਾਂ', 'timestamp': (233.56, 233.92)}, {'text': 'ਦੀ', 'timestamp': (233.92, 234.0)}, {'text': 'ਧਰਤੀ', 'timestamp': (234.0, 234.32)}, {'text': 'ਹੁੰਦਾ', 'timestamp': (234.32, 234.56)}, {'text': 'ਸੀ', 'timestamp': (234.56, 234.68)}, {'text': 'ਸਰ', 'timestamp': (234.68, 234.88)}, {'text': 'ਅਨੁਜਾਗ੍ਰ', 'timestamp': (235.87, 236.39)}, {'text': 'ਹਾਂ', 'timestamp': (236.87, 236.99)}, {'text': 'ਜੀ', 'timestamp': (236.99, 237.23)}, {'text': 'ਮੈ', 'timestamp': (238.07, 238.39)}, {'text': 'ਮ', 'timestamp': (238.39, 238.43)}, {'text': 'ਜੋ', 'timestamp': (238.43, 238.71)}, {'text': 'ਵੀ', 'timestamp': (238.71, 239.03)}, {'text': 'ਆਪਾਂ', 'timestamp': (239.03, 239.15)}, {'text': 'ਨੂੰ', 'timestamp': (239.23, 239.43)}, {'text': 'ਕਿਤੇ', 'timestamp': (239.43, 239.67)}, {'text': 'ਜਾਗਰੂਕ', 'timestamp': (239.67, 239.99)}, {'text': 'ਕਰਨਾ', 'timestamp': (239.99, 240.35)}, {'text': 'ਸੀਗਾ', 'timestamp': (240.35, 240.59)}, {'text': 'ਕੈਂਪਲ', 'timestamp': (240.63, 241.03)}, {'text': 'ਆਉਣ', 'timestamp': (241.03, 241.11)}, {'text': 'ਦੀ', 'timestamp': (241.11, 241.23)}, {'text': 'ਲੋੜ', 'timestamp': (241.23, 241.43)}, {'text': 'ਹੋਈ', 'timestamp': (241.43, 241.55)}, {'text': 'ਤਾਂ', 'timestamp': (241.55, 241.67)}, {'text': 'ਮੈਂ', 'timestamp': (241.67, 241.75)}, {'text': 'ਹਾਜਿਰ', 'timestamp': (241.75, 242.11)}, {'text': 'ਆ', 'timestamp': (242.11, 242.15)}, {'text': 'ਜਿਹੜੇ', 'timestamp': (242.15, 242.43)}, {'text': 'ਮਰਜ਼ੀ', 'timestamp': (242.43, 242.67)}, {'text': 'ਬੰਦੇ', 'timestamp': (242.67, 243.11)}, {'text': 'ਕਦੇ', 'timestamp': (243.11, 243.47)}, {'text': 'ਬਹੁਤ', 'timestamp': (243.47, 243.63)}, {'text': 'ਦਿਮਾਗੀ', 'timestamp': (244.31, 244.75)}, {'text': 'ਬਹੁਤ', 'timestamp': (244.75, 244.99)}, {'text': 'ਬਹੁਤ', 'timestamp': (244.99, 245.15)}, {'text': 'ਧੰਨਵਾਦ', 'timestamp': (246.03, 246.75)}, {'text': 'ਰਾਜਿੰਦਰ', 'timestamp': (246.75, 247.19)}, {'text': 'ਜੀ', 'timestamp': (247.19, 247.31)}, {'text': 'ਤੁਹਾਡਾ', 'timestamp': (247.31, 247.67)}, {'text': 'ਠੀਕ', 'timestamp': (247.99, 248.11)}, {'text': 'ਐ', 'timestamp': (248.11, 248.47)}, {'text': 'ਜੀ', 'timestamp': (248.47, 248.55)}, {'text': 'ਜਰੂਰ', 'timestamp': (248.67, 248.91)}, {'text': 'ਕਮੈਂਟ', 'timestamp': (248.91, 249.15)}, {'text': 'ਦੇ', 'timestamp': (249.15, 249.39)}, {'text': 'ਵਿੱਚ', 'timestamp': (249.39, 249.55)}, {'text': 'ਇਹ', 'timestamp': (249.55, 249.59)}, {'text': 'ਮੈਂਸ਼ਨ', 'timestamp': (249.59, 250.03)}, {'text': 'ਕਰੂਗੀ', 'timestamp': (250.03, 250.35)}, {'text': 'ਕੀ', 'timestamp': (250.35, 250.43)}, {'text': 'ਤੁਸੀਂ', 'timestamp': (250.43, 250.71)}, {'text': 'ਬਹੁਤ', 'timestamp': (250.71, 250.99)}, {'text': 'ਅੱਛਿਆ', 'timestamp': (251.03, 251.19)}, {'text': 'ਤਰੀਕੇ', 'timestamp': (251.19, 251.47)}, {'text': 'ਨਾਲ', 'timestamp': (251.47, 251.63)}, {'text': 'ਸਪੋਰਟ', 'timestamp': (251.63, 251.91)}, {'text': 'ਕਰਨ', 'timestamp': (251.91, 252.07)}, {'text': 'ਨੂੰ', 'timestamp': (252.07, 252.27)}, {'text': 'ਤਿਆਰ', 'timestamp': (252.27, 252.39)}, {'text': 'ਹੋ', 'timestamp': (252.39, 252.63)}, {'text': 'ਤੇ', 'timestamp': (252.95, 253.15)}, {'text': 'ਮੇਰੀ', 'timestamp': (253.79, 253.99)}, {'text': 'ਕੋਈ', 'timestamp': (254.07, 254.15)}, {'text': 'ਗੱਲ', 'timestamp': (254.15, 254.31)}, {'text': 'ਨਹੀਂ', 'timestamp': (254.31, 254.55)}, {'text': 'ਜੀ', 'timestamp': (254.55, 254.67)}, {'text': 'ਨਾਲ', 'timestamp': (254.67, 254.99)}, {'text': 'ਆਪਾਂ', 'timestamp': (254.99, 255.23)}, {'text': 'ਆ', 'timestamp': (255.23, 256.07)}, {'text': 'ਗਿਆ', 'timestamp': (256.07, 256.15)}, {'text': 'ਠੀਕ', 'timestamp': (256.15, 256.39)}, {'text': 'ਐ', 'timestamp': (256.39, 256.43)}, {'text': 'ਜੀ', 'timestamp': (256.43, 256.55)}, {'text': 'ਕਹਿਦੋ', 'timestamp': (256.59, 257.15)}, {'text': 'ਜਸਵੰਤ', 'timestamp': (257.15, 257.35)}, {'text': 'ਨੇ', 'timestamp': (257.35, 257.67)}, {'text': 'ਹੀ', 'timestamp': (257.67, 257.75)}, {'text': 'ਸ਼ਾਮ', 'timestamp': (257.75, 258.07)}, {'text': 'ਨੂੰ', 'timestamp': (258.07, 258.19)}, {'text': 'ਅੱਜ', 'timestamp': (258.19, 258.31)}, {'text': 'ਮੈਨੂੰ', 'timestamp': (258.31, 258.51)}, {'text': 'ਜੀ', 'timestamp': (258.51, 258.71)}, {'text': 'ਠੀਕ', 'timestamp': (259.19, 259.59)}, {'text': 'ਐ', 'timestamp': (259.59, 259.67)}, {'text': 'ਸਿਰ', 'timestamp': (259.67, 259.79)}, {'text': 'ਠੀਕ', 'timestamp': (259.83, 260.11)}, {'text': 'ਐ', 'timestamp': (260.11, 261.19)}, {'text': 'ਸਿਰ', 'timestamp': (261.19, 261.59)}, {'text': 'ਓਕੇ', 'timestamp': (262.08, 262.16)}]}\n"
     ]
    }
   ],
   "source": [
    "transcript = transcribe_with_timestamps(input_audio_path)\n",
    "print(transcript)"
   ]
  },
  {
   "cell_type": "markdown",
   "id": "2d9b4a80",
   "metadata": {},
   "source": [
    "### 🕵️ Step 2: Detect PII Entities in Hindi Text\n",
    "\n",
    "This function uses the Azure client to recognize PII entities in a Hindi document. It:\n",
    "\n",
    "- Calls Azure's `recognize_pii_entities()` method with language set to `\"hi\"` (Hindi).\n",
    "- Prints redacted text and detailed info for each detected entity.\n",
    "- Returns a list of all PII words detected in the input.\n"
   ]
  },
  {
   "cell_type": "code",
   "execution_count": 117,
   "id": "6b73be8a",
   "metadata": {},
   "outputs": [
    {
     "name": "stdout",
     "output_type": "stream",
     "text": [
      "Redacted Text: ਹੈਲੋ ਹਾਂਜੀ ਹਾਂਜੀ ਸਿਰ ਫੋਨ ਆਇਆ ਸੀ ਤੁਹਾਡਾ ਫੋਨ ਆਇਆ ਸੀ ਇੱਕ ਸੈਕਿੰਡ ਹੋਲਡ ਕਰੋ ਜੀ ਮੈਂ ਨਾਮ ਜਾਣ ਸਕਦੀ ਆਂ ਤੁਹਾਡਾ *********** ਜੀ। ***********, ********, ************ ਲਾ ਲੇ ਐਲ ਏ। ਜੇ ਆਈ। ਐੱਨ। ਡੀ। ਏ। ਆ। ************ ਜੀ ਮੈਂ ************* ਪਟਿਆਲੇ ਤੋਂ ਗੱਲ ਕਰ ਰਹੀ ਹਾਂ ਤੁਹਾਡੀ। ਕੋਲੇ ਨਾ ਸਾਡਾ ਕੋਈ ਨਾ ਕੋਈ ਫੀਲਡ ***** ਆਇਆ ਹੋਣਾ। ਉਹ ਨੇ ਤੁਹਾਨੂੰ ਕਾਰਬਨ ਕ੍ਰੇਡਿਟ ਪ੍ਰੋਗਰਾਮ ਬਾਰੇ ਜਾਣਕਾਰੀ ਦਿੱਤੀ ਹੋਣੀ ਸਿਰ। ਜਿਹੜੇ ਖੇਤਾਂ ਦੇ ਵਿੱਚ ਪਾਈਪ ਲੱਗਦੇ ਨੇ ਸਿਰ। ਆਈਡੀਆ ਮੈਸੇਜ ਲੋਨ ਦੇਣੀ। ਨਹੀਂ ਮੇਰੇ ਕੋਲ ਕੋਈ ਨਹੀਂ ਆਇਆ ਜੀ ਅਜੇ। ********** ਜੀ ਲਈ ਅੱਛਾ ********** ਦਾ ਫਰਡੇ ਆ ਜੀ ਹੈਗਾ। ਉਹ ਮਸ਼ੀਨ ਐ ਉਹ ਕਰੀ ਜਾਂਦੇ ਨੇ ਨਾ ਜੀ ਖੇਦ ਤਾਚ ਸਾਧੂ ਮਸ਼ੀਨ ਨਾਲ। ਮੈਂ ਤੁਹਾਨੂੰ ਦੱਸਦੀ ਆਂ। ********** ਜੀ ਨੇ ਤੁਹਾਨੂੰ ਜੋ ਦੱਸਿਆ *** ਆਈ ਸੀ। ਉਹਦਾ ਪ੍ਰਾਪਰ ਦੱਸ ਨੀ ਪਾਏ ਯਾ ਤੁਸੀਂ ਸਮਝ ਨਹੀਂ ਪਾਏ। ਦੱਸੋ ਜੀ। ਮੈਂ ਨਾ ਸੈਂਸਰ ਲੈ ਜਾਂਦਾ। **** ਕਹਿੰਦੇ ਨੇ ਅਸੀਂ ਕੰਪਨੀ ਨੂੰ ਸੈਂਸਰ ਕਹਿਦੇ ਨੇ ਬੱਟ ਦੇ ਨਾਲ ਲੱਗ ਜੁਗਾ ਪਹਿਲੀ ਗੱਲ ਥੋੜੀ ਫਸਲ ਦੇ ਵਿੱਚ ਕੋਈ ਨੁਕਸਾਨ ਨੀ ਕਰੂਗਾ। ਕੋਈ ਜਗ੍ਹਾ ਨੀ ਜਿਆਦਾ ਖੇਡਿਓ ਖੈਰੂਗਾ ਠੀਕ ਆ ਠੀਕ ਆ ਜੀ ਠੀਕ ਆ ਠੀਕ ਰਹੂਗਾ ਕੀ ਜਦੋਂ ਤੁਹਾਡੇ ਖੇਤ ਦੇ ਵਿੱਚ ਪਾਣੀ ਦੀ ਮਾਤਰਾ ਕੱਟਜੂਗੀ। ਹਾਂਜੀ। ******** ਜੀ ਤੁਹਾਡੇ ਖੇਤ ਦੇ ਵਿੱਚ ਪਾਣੀ ਦੀ ਮਾਤਰਾ ਘਟ ਗਈ ਹੈ। ਕਿਰਪਾ ਕਰਕੇ ਮੋਟਰ ਚਲਾ ਦੋ ਠੀਕ ਐ ਜੀ। ਜਿਹੜਾ ਵੀ ਪਾਣੀ ਦਾ ਸੈੱਟ ਕਰਾਂਗੇ ਤੁਹਾਡੀ ਪਾਣੀ ਦੇ ਸੁੱਕਣ ਦੀ ਗਤੀ ਵੀ ਅਲੱਗ ਅਲੱਗ ਹੁੰਦੀ ਹੈ ਹੈ ਨਾ ਜਿੱਥੇ ਉਹ ਦੇਖੀਏ। ਇਹਦੇ ਵਿੱਚ ਪਾਣੀ ਦੀ ਮਾਤਰਾ ਪੂਰੀ ਹੋ ਜਾਣੀ ਹੈ। ਫੇਰ ਮੈਸੇਜ ਆਜੂਗਾ ਜੀ ਨਮੀ ਦੀ ਮਾਤਰਾ ਪੂਰੀ ਹੋਊਗੀ। ਮੋਟਰ ਬੰਦ ਕਰ ਤੋਂ ਇਹ ਪਹਿਲਾਂ ਤਾਂ ਮੈਂ ਤੁਹਾਨੂੰ ਇਹ ਹੋਰ ਕੰਮ ਦੱਸਿਆ ਹੈ ਵੀ ਉਹ ਕਰਦਾਂ ਕਿ ਹੈ *** ਆਪਣਾ ਜਵਨਾ ਕਿਉਂ ਹੈ? *** ਕਿਉਂ ਹੈ ਨੂੰ ਕੀ ਲੋੜ ਐ। ਹਾਂਜੀ ਲੋੜ ਇਸ ਕਰਕੇ ਹੈ ਸਿਰ ਕਈ ਫ਼ਾਰਮ ਦਾ ਕਈ ******* ਦਾ ਜਿਹੜਾ ਘਰ ਹੈ ਉਹ ਖੇਤ ਤੋਂ ਖਸੀ ਦੂਰ ਹੁੰਦਾ ਹੈ। ਬਾਰ ਬਾਰ ਜਾ ਕੇ ਚੈਕ ਕਰਨਾ ਕਈ ਵਾਰੀ ਪਾਣੀ ਵੱਧ ਲੱਗ ਜਾਂਦਾ ਹੈ ਜਾਂ ਘੱਟ ਲਗ ਜਾਂਦਾ ਹੈ ਤਾਂ ਆਪਣੀ ਸਮੇਂ ਦੀ ਬਚਤ ਕਰੁਗਾ ਦੂਜਾ ਮੰਨੇ ਆਪਾਂ ਨੂੰ ਬਿਜਲੀ ਦੀ ਸਬਸਿਡੀ ਮਿਲਦੀ ਹੈ ਪਰ ******* ਆਬ੍ਰਿਓ ਖਿਲੋਣੇ ਹਾਂ। ਹੈ ਨਾ ਜਿੰਨੀ ਮੋਟਰ ਘੱਟ ਚਲੁਗੀ ਉਹਨਾਂ ਜਿਆਦਾ ਲੰਬਾ ਟਾਈਮ ਸਿਰ ਡਿਨਾ ਕੱਟੂਗੀ। ਦੂਜਾ ਵਿਦਾਈ ਹੋ ਗਿਆ ਜੀ ਤੀਜਾ ਮੇਰਾ ਕੀ ਹੁੰਦਾ ਹੈ ਜਦੋਂ ਅਸੀਂ ਪਾਣੀ ਬਦਲਾਨੇ ਨਾ ਸਰਕਾਰ ਦਾ ਫ਼ਸਲ ਨੂੰ ਉੱਲੀ ਦੀ ਬਿਮਾਰੀ ਵੀ ਲਾਨੀ ਹੁੰਦੀ ਹੈ ਜਿਹੜੇ ਫਿਰ ਆਪਾਂ ਨੂੰ ਸਵੇਰੇਹਾਂ ਕਰਨੀਆਂ ਪੈਂਦੀਆਂ ਨੇ ਉਹ ਬਹੁਤ ਮਹਿੰਗੀਆਂ ਹੁੰਦੀਆਂ ਨੇ ਜੀ ਦਾ ਇਫੈਕਟ ਉੱਲੀ ਨੂੰ ਤਾਂ ਖਤਮ ਕਰ ਦੇਈਏ ਥੋੜ੍ਹਾ ਬਹੁਤ ਝਾੜਤੇ ਵੀ ਫਰਕ ਪਾਉਂਦੇ। ਠੀਕ ਆ ਜੀ ਤੁਸੀਂ ਪਾਣੀ ਖੇਤਰ ਦੇ ਵਿੱਚ ਜਿਆਦਾ ਖੜਾ ਹੁੰਦਾ। ਤੁਸੀਂ ਨੋਟ ਕੀਤਾ ਹੋਣਾ ਬੁਲਬਲੇ ਨਿਕਲਦੇ ਨੇ। ਪਾਣੀ ਚੋਂ ਉਹਦਾ ਮਿਥੇਨ ਗੈਸ ਹੁੰਦੀ ਐ ਜਿਹੜੀ ਫ਼ਸਲ ਨੂੰ ਵੀ ਖਰਾਬ ਕਰਦੀ ਆ। ਬਾਕੀ ਦੇ ਇਨਵਾਇਰਨਮੈਂਟ ਨੂੰ ਵੀ ਖਰਾਬ ਕਰਦੀ ਐ। ਜ਼ਿਆਦਾ ਪਾਣੀ ਖੜਨਾੜ੍ਹ ਤੁਹਾਡੀ ਫ਼ਸਲ ਨੂੰ ਵੀ ਖਰਾਬ ਕਰਦੀ ਆ। ਆਪਣੀ ਤੁਸੀਂ ਨੋਟ ਨਹੀਂ ਕੀਤਾ ਜਦੋਂ ਮਸਲਾ ਮੌਸਮ ਆ ਜਾਂਦਾ। ਖੜ੍ਹੇ ਖੜ੍ਹੇ ਜਾ ਪਰ ਤੁਸੀਂ ******। ਆਪਣੇ ਆਸਮਾਨ ਦੇ ਵਿੱਚ ਨਾ ਮਿੱਥੇਨ ਗੇ ਜਿਆਦਾ ਬਣ ਜਾਂਦੀ ਐ ਜਿਆਦਾ ਪਾਣੀ ਖੇਤਾਂ ਵਿਚ ਲਾਣ ਕਰਕੇ ਔਰ ਸਾਡੀ ਫ਼ਸਲ ਦਾ ਝਾੜ ਵੀ ਘੱਟ ਦਾ। ਜੇ ਤੁਸੀਂ ਇਹ ਸੈਂਸਰ ਲਗਾਉਣੇ ਹੋ ਤਾਂ ਤੁਹਾਨੂੰ ਇਕ ਤਾਂ ਸਭ ਤੋਂ ਵਧੀਆ ਗੱਲ ਇਹਦਾ ਕੋਈ ₹0.00 ਨਹੀਂ ਦੇਣਾ। ਬਿਲਕੁਲ ਫ਼੍ਰੀ ਆਫ਼ ਕਾਸਟੈ ਵੀ ਮੁੜ ਕੇ ਇਕ ਸਾਡਾ ਉਸ ਸੈਂਸਰ ਨੂੰ ਕੱਢ ਕੇ ਲੈਕੇ ਜਾਣਾ। ਤੁਹਾਨੂੰ ਮੈਸੇਜ ਭੇਜਣੇ ਇਹ ਸਾਰੀ ਸਰਵਿਸਿਜ਼ *********** ਵੱਲੋਂ ਫ਼੍ਰੀ ਨੇ। ਤੁਹਾਨੂੰ ਫਾਇਦਾ ਕੀ ਹੋ ਰਿਹਾ ਹੈ? ਥੋੜਾ ਪਾਣੀ ਬਚ ਰਿਹਾ ਹੈ। ਤੁਹਾਡੀ ਮੋਟਰ ਦੀ ਉਮਰ ਵੱਧ ਰਹੀ ਹੈ। ਥੋੜਾ ਝਾੜ ਵੱਧ ਰਹੀ ਹੈ। ਠੀਕ ਹੈ ਜੀ ਠੀਕ ਹੈ ਨਾ ਇਹ ਥੋਨੂੰ ਫਾਇਦੇ ਹੋ ਰਹੇ ਹੈ ਜੀ ਬੱਸ ਜੀ, ਮੈ ਤਾ ਤੁਹਾਡੇ ਨਾਲਾ ਕੋਈ ਚੱਕਰ ਨਹੀਂ ਦੱਸੋ। ********** ਤੁਸੀ ਹੋਰ ਆਪਾ ਨੇ ਨਾਲ ਬਹੁਤ ਜੁੜਿਆ ਹੈ ਜੀ। ਤੁਸੀ ਸਾਡੇ ਮੁਤਾਬਿਕ ਚਲ ਨੀ ਜਾਉਗੇ ਤਾ ਉਹਦੇ ਨਾਲ ਪਾਣੀ ਵੀ ਦੇਖੋ ਪੰਜਾਬ ਤੇ ਪੰਜ ਤਰਾਂ ਦੀ ਧਰਤੀ ਹੁੰਦਾ ਸੀ। ਸਰ। ******** ਹਾਂ ਜੀ ਮੈ ਮ ਜੋ ਵੀ ਆਪਾਂ ਨੂੰ ਕਿਤੇ ਜਾਗਰੂਕ ਕਰਨਾ ਸੀਗਾ ਕੈਂਪਲ ਆਉਣ ਦੀ ਲੋੜ ਹੋਈ ਤਾਂ ਮੈਂ ਹਾਜਿਰ ਆ ਜਿਹੜੇ ਮਰਜ਼ੀ ਬੰਦੇ ਕਦੇ ਬਹੁਤ ਦਿਮਾਗੀ ਬਹੁਤ ਬਹੁਤ ਧੰਨਵਾਦ। ******* ਜੀ ਤੁਹਾਡਾ ਠੀਕ ਐ ਜੀ ਜਰੂਰ ਕਮੈਂਟ ਦੇ ਵਿੱਚ ਇਹ ਮੈਂਸ਼ਨ ਕਰੂਗੀ ਕੀ ਤੁਸੀਂ ਬਹੁਤ ਅੱਛਿਆ ਤਰੀਕੇ ਨਾਲ ਸਪੋਰਟ ਕਰਨ ਨੂੰ ਤਿਆਰ ਹੋ ਤੇ ਮੇਰੀ ਕੋਈ ਗੱਲ ਨਹੀਂ ਜੀ ਨਾਲ ਆਪਾਂ ਆ ਗਿਆ ਠੀਕ ਐ ਜੀ ਕਹਿਦੋ ***** ਨੇ ਹੀ ਸ਼ਾਮ ਨੂੰ ਅੱਜ ਮੈਨੂੰ ਜੀ। ਠੀਕ ਐ ਸਿਰ ਠੀਕ ਐ ਸਿਰ। ਓਕੇ।\n",
      "Entity: ਰਜਿੰਦਰ ਸਿੰਘ\n",
      "\tCategory: Person\n",
      "\tConfidence Score: 0.96\n",
      "\tOffset: 100\n",
      "\tLength: 11\n",
      "Entity: ਰਜਿੰਦਰ ਸਿੰਘ\n",
      "\tCategory: Person\n",
      "\tConfidence Score: 0.99\n",
      "\tOffset: 116\n",
      "\tLength: 11\n",
      "Entity: ਲਿਖ ਸਿੰਘ\n",
      "\tCategory: Person\n",
      "\tConfidence Score: 0.98\n",
      "\tOffset: 129\n",
      "\tLength: 8\n",
      "Entity: ਰਾਜਿੰਦਰ ਸਿੰਘ\n",
      "\tCategory: Person\n",
      "\tConfidence Score: 0.98\n",
      "\tOffset: 139\n",
      "\tLength: 12\n",
      "Entity: ਰਾਜਿੰਦਰ ਸਿੰਘ\n",
      "\tCategory: Person\n",
      "\tConfidence Score: 0.98\n",
      "\tOffset: 186\n",
      "\tLength: 12\n",
      "Entity: ਜਸਵੰਤ ਸਿੰਘ\n",
      "\tCategory: Person\n",
      "\tConfidence Score: 0.97\n",
      "\tOffset: 461\n",
      "\tLength: 10\n",
      "Entity: ਸ਼ਵਾਨ ਸਿੰਘ\n",
      "\tCategory: Person\n",
      "\tConfidence Score: 0.89\n",
      "\tOffset: 483\n",
      "\tLength: 10\n",
      "Entity: ਜਸਵੰਤ ਸਿੰਘ\n",
      "\tCategory: Person\n",
      "\tConfidence Score: 0.97\n",
      "\tOffset: 592\n",
      "\tLength: 10\n",
      "Entity: ਪਾਈਪ\n",
      "\tCategory: Person\n",
      "\tConfidence Score: 0.78\n",
      "\tOffset: 715\n",
      "\tLength: 4\n",
      "Entity: ਂਦਰ ਸਿੰਘ\n",
      "\tCategory: Person\n",
      "\tConfidence Score: 0.89\n",
      "\tOffset: 948\n",
      "\tLength: 8\n",
      "Entity: ਥੋਨੂੰ ਕੰਪਨੀ\n",
      "\tCategory: Organization\n",
      "\tConfidence Score: 0.78\n",
      "\tOffset: 2577\n",
      "\tLength: 11\n",
      "Entity: ਮੈਦਾ ਪੇਂਟਰ\n",
      "\tCategory: Person\n",
      "\tConfidence Score: 0.85\n",
      "\tOffset: 2802\n",
      "\tLength: 10\n",
      "Entity: ਅਨੁਜਾਗ੍ਰ\n",
      "\tCategory: Person\n",
      "\tConfidence Score: 0.98\n",
      "\tOffset: 2946\n",
      "\tLength: 8\n",
      "Entity: ਰਾਜਿੰਦਰ\n",
      "\tCategory: Person\n",
      "\tConfidence Score: 0.98\n",
      "\tOffset: 3092\n",
      "\tLength: 7\n",
      "Entity: ਜਸਵੰਤ\n",
      "\tCategory: Person\n",
      "\tConfidence Score: 0.89\n",
      "\tOffset: 3260\n",
      "\tLength: 5\n"
     ]
    }
   ],
   "source": [
    "asr_text = [transcript['text']]\n",
    "pii_result = detect_pii_entities(asr_text)\n",
    "pii_words = []\n",
    "for doc in pii_result:\n",
    "    print(\"Redacted Text: {}\".format(doc.redacted_text))\n",
    "    for entity in doc.entities:\n",
    "        if entity.confidence_score > 0.7 and entity.category in ['Person', 'Organization', 'PhoneNumber', 'Address', 'Location']:\n",
    "            print(\"Entity: {}\".format(entity.text))\n",
    "            pii_words.append(entity.text)\n",
    "            print(\"\\tCategory: {}\".format(entity.category))\n",
    "            print(\"\\tConfidence Score: {}\".format(entity.confidence_score))\n",
    "            print(\"\\tOffset: {}\".format(entity.offset))\n",
    "            print(\"\\tLength: {}\".format(entity.length))"
   ]
  },
  {
   "cell_type": "markdown",
   "id": "136b8964",
   "metadata": {},
   "source": [
    "### 🧠 Step 3: Map PII Words to Audio Word Timestamps\n",
    "\n",
    "This function attempts to align each detected PII word to a timestamped word chunk in the ASR output using:\n",
    "\n",
    "- Fuzzy string matching (`SequenceMatcher`) to allow for slight mismatches.\n",
    "- Returns a list of timestamps corresponding to each PII word.\n",
    "\n",
    "This is crucial for knowing **where** in the audio to apply redaction.\n"
   ]
  },
  {
   "cell_type": "code",
   "execution_count": 118,
   "id": "508ae1c3",
   "metadata": {},
   "outputs": [
    {
     "name": "stdout",
     "output_type": "stream",
     "text": [
      "[(13.47, 13.87), (17.32, 17.56), (13.87, 14.11), (18.72, 19.28), (25.19, 25.59), (46.88, 47.08), (49.32, 49.6), (59.12, 59.32), (38.27, 38.55), (17.96, 18.12), (26.59, 26.91), (224.47, 224.75), (235.87, 236.39), (246.75, 247.19), (257.15, 257.35)]\n"
     ]
    }
   ],
   "source": [
    "pii_segments = map_pii_to_timestamps(pii_words, transcript['chunks'], threshold=0.5)\n",
    "print(pii_segments)"
   ]
  },
  {
   "cell_type": "code",
   "execution_count": 119,
   "id": "3c301928",
   "metadata": {},
   "outputs": [
    {
     "data": {
      "text/plain": [
       "15"
      ]
     },
     "execution_count": 119,
     "metadata": {},
     "output_type": "execute_result"
    }
   ],
   "source": [
    "len(pii_segments)"
   ]
  },
  {
   "cell_type": "markdown",
   "id": "3259f5c5",
   "metadata": {},
   "source": [
    "### 🔇 Step 4: Mute Audio Segments Containing PII\n",
    "\n",
    "This function takes the original audio file and the timestamps of detected PII, and:\n",
    "\n",
    "- Loads the audio using `torchaudio`.\n",
    "- Silences the waveform between each PII segment (sets amplitude to zero).\n",
    "- Saves the redacted audio file to `output_audio/` directory, replacing `\"in-\"` with `\"out-\"` in the filename.\n"
   ]
  },
  {
   "cell_type": "code",
   "execution_count": 120,
   "id": "1e8f12f3",
   "metadata": {},
   "outputs": [
    {
     "name": "stdout",
     "output_type": "stream",
     "text": [
      "✅ Redacted audio saved at: output_audio\\out-70001-919417328881-20250530-160219-1748601139.42162.wav\n"
     ]
    }
   ],
   "source": [
    "redact_audio(input_audio_path,pii_segments)"
   ]
  },
  {
   "cell_type": "code",
   "execution_count": null,
   "id": "15e6d963",
   "metadata": {},
   "outputs": [],
   "source": []
  }
 ],
 "metadata": {
  "kernelspec": {
   "display_name": "myenv",
   "language": "python",
   "name": "python3"
  },
  "language_info": {
   "codemirror_mode": {
    "name": "ipython",
    "version": 3
   },
   "file_extension": ".py",
   "mimetype": "text/x-python",
   "name": "python",
   "nbconvert_exporter": "python",
   "pygments_lexer": "ipython3",
   "version": "3.12.4"
  }
 },
 "nbformat": 4,
 "nbformat_minor": 5
}
